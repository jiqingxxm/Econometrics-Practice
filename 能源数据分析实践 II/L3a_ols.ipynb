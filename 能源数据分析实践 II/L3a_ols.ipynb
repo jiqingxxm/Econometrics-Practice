{
 "cells": [
  {
   "cell_type": "markdown",
   "id": "712b5b6ae6bb05db",
   "metadata": {},
   "source": [
    "# 课堂实践：`OLS`"
   ]
  },
  {
   "cell_type": "markdown",
   "id": "fcecbf94dcfc29b4",
   "metadata": {},
   "source": [
    "### 1. 导入必要的库"
   ]
  },
  {
   "cell_type": "code",
   "execution_count": null,
   "id": "c075a4c387ca4db",
   "metadata": {
    "ExecuteTime": {
     "end_time": "2025-02-28T04:22:51.133274Z",
     "start_time": "2025-02-28T04:22:50.735339Z"
    }
   },
   "outputs": [],
   "source": [
    "import wooldridge as woo  # 用于加载数据集\n",
    "import numpy as np  # 用于数学计算\n",
    "import matplotlib.pyplot as plt  # 用于绘制图表"
   ]
  },
  {
   "cell_type": "markdown",
   "id": "e2e1cb9b4487c5ab",
   "metadata": {},
   "source": [
    "### 2. 加载数据集并查看数据前几行"
   ]
  },
  {
   "cell_type": "code",
   "execution_count": null,
   "id": "1b85d1d9d9d2fe1d",
   "metadata": {
    "ExecuteTime": {
     "end_time": "2025-02-28T04:22:51.144981Z",
     "start_time": "2025-02-28T04:22:51.136503Z"
    },
    "collapsed": false
   },
   "outputs": [
    {
     "data": {
      "text/html": [
       "<div>\n",
       "<style scoped>\n",
       "    .dataframe tbody tr th:only-of-type {\n",
       "        vertical-align: middle;\n",
       "    }\n",
       "\n",
       "    .dataframe tbody tr th {\n",
       "        vertical-align: top;\n",
       "    }\n",
       "\n",
       "    .dataframe thead th {\n",
       "        text-align: right;\n",
       "    }\n",
       "</style>\n",
       "<table border=\"1\" class=\"dataframe\">\n",
       "  <thead>\n",
       "    <tr style=\"text-align: right;\">\n",
       "      <th></th>\n",
       "      <th>salary</th>\n",
       "      <th>pcsalary</th>\n",
       "      <th>sales</th>\n",
       "      <th>roe</th>\n",
       "      <th>pcroe</th>\n",
       "      <th>ros</th>\n",
       "      <th>indus</th>\n",
       "      <th>finance</th>\n",
       "      <th>consprod</th>\n",
       "      <th>utility</th>\n",
       "      <th>lsalary</th>\n",
       "      <th>lsales</th>\n",
       "    </tr>\n",
       "  </thead>\n",
       "  <tbody>\n",
       "    <tr>\n",
       "      <th>0</th>\n",
       "      <td>1095</td>\n",
       "      <td>20</td>\n",
       "      <td>27595.000000</td>\n",
       "      <td>14.1</td>\n",
       "      <td>106.400002</td>\n",
       "      <td>191</td>\n",
       "      <td>1</td>\n",
       "      <td>0</td>\n",
       "      <td>0</td>\n",
       "      <td>0</td>\n",
       "      <td>6.998509</td>\n",
       "      <td>10.225389</td>\n",
       "    </tr>\n",
       "    <tr>\n",
       "      <th>1</th>\n",
       "      <td>1001</td>\n",
       "      <td>32</td>\n",
       "      <td>9958.000000</td>\n",
       "      <td>10.9</td>\n",
       "      <td>-30.600000</td>\n",
       "      <td>13</td>\n",
       "      <td>1</td>\n",
       "      <td>0</td>\n",
       "      <td>0</td>\n",
       "      <td>0</td>\n",
       "      <td>6.908755</td>\n",
       "      <td>9.206132</td>\n",
       "    </tr>\n",
       "    <tr>\n",
       "      <th>2</th>\n",
       "      <td>1122</td>\n",
       "      <td>9</td>\n",
       "      <td>6125.899902</td>\n",
       "      <td>23.5</td>\n",
       "      <td>-16.299999</td>\n",
       "      <td>14</td>\n",
       "      <td>1</td>\n",
       "      <td>0</td>\n",
       "      <td>0</td>\n",
       "      <td>0</td>\n",
       "      <td>7.022868</td>\n",
       "      <td>8.720281</td>\n",
       "    </tr>\n",
       "    <tr>\n",
       "      <th>3</th>\n",
       "      <td>578</td>\n",
       "      <td>-9</td>\n",
       "      <td>16246.000000</td>\n",
       "      <td>5.9</td>\n",
       "      <td>-25.700001</td>\n",
       "      <td>-21</td>\n",
       "      <td>1</td>\n",
       "      <td>0</td>\n",
       "      <td>0</td>\n",
       "      <td>0</td>\n",
       "      <td>6.359574</td>\n",
       "      <td>9.695602</td>\n",
       "    </tr>\n",
       "    <tr>\n",
       "      <th>4</th>\n",
       "      <td>1368</td>\n",
       "      <td>7</td>\n",
       "      <td>21783.199219</td>\n",
       "      <td>13.8</td>\n",
       "      <td>-3.000000</td>\n",
       "      <td>56</td>\n",
       "      <td>1</td>\n",
       "      <td>0</td>\n",
       "      <td>0</td>\n",
       "      <td>0</td>\n",
       "      <td>7.221105</td>\n",
       "      <td>9.988894</td>\n",
       "    </tr>\n",
       "  </tbody>\n",
       "</table>\n",
       "</div>"
      ],
      "text/plain": [
       "   salary  pcsalary         sales   roe       pcroe  ros  indus  finance  \\\n",
       "0    1095        20  27595.000000  14.1  106.400002  191      1        0   \n",
       "1    1001        32   9958.000000  10.9  -30.600000   13      1        0   \n",
       "2    1122         9   6125.899902  23.5  -16.299999   14      1        0   \n",
       "3     578        -9  16246.000000   5.9  -25.700001  -21      1        0   \n",
       "4    1368         7  21783.199219  13.8   -3.000000   56      1        0   \n",
       "\n",
       "   consprod  utility   lsalary     lsales  \n",
       "0         0        0  6.998509  10.225389  \n",
       "1         0        0  6.908755   9.206132  \n",
       "2         0        0  7.022868   8.720281  \n",
       "3         0        0  6.359574   9.695602  \n",
       "4         0        0  7.221105   9.988894  "
      ]
     },
     "execution_count": 4,
     "metadata": {},
     "output_type": "execute_result"
    }
   ],
   "source": [
    "ceosal1 = woo.dataWoo('ceosal1')  # 从 wooldridge 库加载 \"ceosal1\" 数据集\n",
    "ceosal1.head(5)   # 打印数据集的前五行，了解数据的概况"
   ]
  },
  {
   "cell_type": "markdown",
   "id": "1d2fb83e7ae8599f",
   "metadata": {},
   "source": [
    "### 3. 绘制散点图：展示“roe”和“salary”之间的关系"
   ]
  },
  {
   "cell_type": "code",
   "execution_count": null,
   "id": "b62c8a7bfb1681e3",
   "metadata": {
    "ExecuteTime": {
     "end_time": "2025-02-28T04:22:51.250324Z",
     "start_time": "2025-02-28T04:22:51.193473Z"
    }
   },
   "outputs": [],
   "source": [
    "plt.figure(figsize=(6.4, 4.8))  # 设置图形的大小\n",
    "plt.plot(ceosal1['roe'], ceosal1['salary'], color='grey', marker='o', linestyle='', label='Data points') # 散点图\n",
    "plt.xlabel('Return on Equity (roe)', fontsize=10)  # x轴标签：净资产收益率 (roe)\n",
    "plt.ylabel('Salary', fontsize=10)  # y轴标签：薪水 (Salary)\n",
    "plt.title('Scatter plot of Salary vs Return on Equity', fontsize=12)  # 标题：薪水与净资产收益率的散点图\n",
    "# plt.grid()  # 显示网格\n",
    "plt.legend()  # 显示图例\n",
    "plt.show()"
   ]
  },
  {
   "cell_type": "code",
   "execution_count": null,
   "id": "cb2834a7f89101bb",
   "metadata": {
    "ExecuteTime": {
     "end_time": "2025-02-28T04:22:51.320144Z",
     "start_time": "2025-02-28T04:22:51.269954Z"
    }
   },
   "outputs": [],
   "source": [
    "plt.figure(figsize=(6.4, 4.8))  # 设置图形的大小\n",
    "plt.plot(ceosal1['roe'], ceosal1['salary'], color='grey', marker='o', linestyle='-', label='Data points') # 折线图\n",
    "plt.xlabel('Return on Equity (roe)', fontsize=10)  # x轴标签：净资产收益率 (roe)\n",
    "plt.ylabel('Salary', fontsize=10)  # y轴标签：薪水 (Salary)\n",
    "plt.title('Scatter plot of Salary vs Return on Equity', fontsize=12)  # 标题：薪水与净资产收益率的散点图\n",
    "# plt.grid()  # 显示网格\n",
    "plt.legend()  # 显示图例\n",
    "plt.show()"
   ]
  },
  {
   "cell_type": "markdown",
   "id": "9b02dc1ffa51bc20",
   "metadata": {},
   "source": [
    "### 4. 基于 协方差与方差 计算回归系数 $\\beta_0$ 和 $\\beta_1$\n",
    "- 模型：$salary = \\beta_0+\\beta_1 roe + \\epsilon$\n",
    "    - $\\hat{\\beta_1} = \\frac{Cov(x,y)}{Var(x)}$\n",
    "    - $\\hat{\\beta_0} = \\bar{y}-\\hat{\\beta_1}\\bar{x}$\n",
    "- 结果：$\\hat{salary} = 963.1913 + 18.5012 \\cdot roe$"
   ]
  },
  {
   "cell_type": "code",
   "execution_count": null,
   "id": "4ead8b92dc63e991",
   "metadata": {
    "ExecuteTime": {
     "end_time": "2025-02-28T04:22:51.328439Z",
     "start_time": "2025-02-28T04:22:51.325369Z"
    }
   },
   "outputs": [],
   "source": [
    "x = ceosal1['roe']  # 提取 'roe' 变量\n",
    "y = ceosal1['salary']  # 提取 'salary' 变量\n",
    "\n",
    "cov_xy = np.cov(x, y)[0, 1]  # 获取协方差矩阵中的协方差\n",
    "var_x = np.var(x, ddof=1)  # 计算 x 的样本方差（ddof=1表示样本方差）\n",
    "b1 = cov_xy / var_x  # 计算回归系数 β1\n",
    "\n",
    "x_bar = np.mean(x)  # 计算 'roe' 的均值\n",
    "y_bar = np.mean(y)  # 计算 'salary' 的均值\n",
    "b0 = y_bar - b1 * x_bar  # 根据公式计算 β0\n",
    "\n",
    "print(f'cons: {b0:.4f}')  # 输出 b0\n",
    "print(f'roe: {b1:.4f}')  # 输出 b1\n"
   ]
  },
  {
   "cell_type": "markdown",
   "id": "b541a5d8dcfbc785",
   "metadata": {},
   "source": [
    "### 5. 绘制拟合结果"
   ]
  },
  {
   "cell_type": "code",
   "execution_count": null,
   "id": "dfee31d17dd2d152",
   "metadata": {
    "ExecuteTime": {
     "end_time": "2025-02-28T04:22:51.386798Z",
     "start_time": "2025-02-28T04:22:51.343522Z"
    }
   },
   "outputs": [],
   "source": [
    "y_hat = b0 + b0 + b1 * ceosal1['roe'] # 计算拟合值\n",
    "\n",
    "plt.figure(figsize=(6.4, 4.8))  # 设置图形的大小\n",
    "plt.plot(ceosal1['roe'], ceosal1['salary'], color='grey', marker='o', linestyle='', label='ture points') # 散点图\n",
    "plt.plot(ceosal1['roe'], y_hat , color='blue', marker='', linestyle='--', label='regression line')  # 绘制回归线\n",
    "plt.xlabel('Return on Equity (roe)', fontsize=10)  # x轴标签：净资产收益率 (roe)\n",
    "plt.ylabel('Salary', fontsize=10)  # y轴标签：薪水 (Salary)\n",
    "plt.title('Scatter plot of Salary vs Return on Equity', fontsize=12)  # 标题：薪水与净资产收益率的散点图\n",
    "# plt.grid(True)  # 显示网格\n",
    "plt.legend()  # 显示图例\n",
    "plt.show()  # 展示图表"
   ]
  },
  {
   "cell_type": "markdown",
   "id": "c5af429140347140",
   "metadata": {},
   "source": [
    "### 课堂练习1： 基于 矩阵 计算回归系数 $\\beta_0$ 和 $\\beta_1$\n",
    "- 模型：$salary = \\beta_0+\\beta_1 roe + \\epsilon$\n",
    "    - $\\hat{\\beta} = (X^TX)^{-1}X^Ty$\n",
    "    - 其中：\n",
    "        - $y$ 是 $n \\times 1$ 的因变量（目标变量）向量\n",
    "        - $X$ 是 $n \\times p$ 的自变量（特征变量）矩阵（包含一列常数项 1，用于计算截距项）\n",
    "        - $\\beta$ 是 $p \\times 1$ 的回归系数向量\n",
    "        - $\\epsilon$ 是误差项\n",
    "- 结果：$\\hat{salary} = 963.1913 + 18.5012 \\cdot roe$"
   ]
  },
  {
   "cell_type": "code",
   "execution_count": null,
   "id": "3cd072a06ad8c2de",
   "metadata": {
    "ExecuteTime": {
     "end_time": "2025-02-28T04:22:51.394339Z",
     "start_time": "2025-02-28T04:22:51.393013Z"
    }
   },
   "outputs": [],
   "source": []
  },
  {
   "cell_type": "markdown",
   "id": "8e87e4c3f67b9a18",
   "metadata": {},
   "source": [
    "### 课堂练习2： 绘制拟合结果"
   ]
  },
  {
   "cell_type": "code",
   "execution_count": null,
   "id": "b0bf590ce669d5e8",
   "metadata": {
    "ExecuteTime": {
     "end_time": "2025-02-28T04:22:51.401785Z",
     "start_time": "2025-02-28T04:22:51.400507Z"
    }
   },
   "outputs": [],
   "source": []
  },
  {
   "cell_type": "markdown",
   "id": "b13d7d23fd18e76",
   "metadata": {},
   "source": [
    "### 课堂练习3（拓展）： 计算回归系数 $\\beta_0$ 和 $\\beta_1$（调用现成的包 `import statsmodels.api as sm`）\n",
    "- 模型：$salary = \\beta_0+\\beta_1 roe + \\epsilon$\n",
    "    - 模型构建 `model = sm.OLS(y, X)`：使用了 `statsmodels` 库的 OLS 函数来构建回归模型\n",
    "    - 该函数接受两个主要参数：\n",
    "        - $y$ 因变量，是一个包含观测值的向量（在上述模型中，表示各个观测单位的薪水）\n",
    "        - $X$ 自变量矩阵，它包含了所有用于预测的特征变量（上述模型中，包括常数项（截距）和 roe 变量）\n",
    "    - 模型被构建后，通过 `model.fit()` 方法对数据进行拟合，得到回归系数，并计算其他统计量（如 $t$ 值、$p$ 值、标准误差等）\n",
    "    - 异方差稳健标准误差：在回归过程中，可能存在异方差（不同观测值的误差项方差不同）。\n",
    "        - 使用 `cov_type='HC0'` 来指定计算 White异方差稳健标准误差，这能够调整标准误差的估计，使得回归系数的统计推断更加可靠\n",
    "- 结果：$\\hat{salary} = 963.1913 + 18.5012 \\cdot roe$"
   ]
  },
  {
   "cell_type": "code",
   "execution_count": null,
   "id": "bbb5e3cebf2fc0e0",
   "metadata": {
    "ExecuteTime": {
     "end_time": "2025-02-28T04:22:51.411539Z",
     "start_time": "2025-02-28T04:22:51.410311Z"
    },
    "collapsed": false
   },
   "outputs": [],
   "source": []
  }
 ],
 "metadata": {
  "kernelspec": {
   "display_name": "myenv_econ",
   "language": "python",
   "name": "python3"
  },
  "language_info": {
   "codemirror_mode": {
    "name": "ipython",
    "version": 3
   },
   "file_extension": ".py",
   "mimetype": "text/x-python",
   "name": "python",
   "nbconvert_exporter": "python",
   "pygments_lexer": "ipython3",
   "version": "3.11.8"
  }
 },
 "nbformat": 4,
 "nbformat_minor": 5
}
