{
 "cells": [
  {
   "cell_type": "markdown",
   "id": "6293c9f67ee6146f",
   "metadata": {},
   "source": [
    "# 📌 课程作业：HW2（总分 100 分）\n",
    "\n",
    "## **提交说明**\n",
    "📩 **提交方式**：请将作业发送至邮箱 **jiqing@cup.edu.cn**\n",
    "\n",
    "📌 **邮件主题格式**：\n",
    "```ECO_HW2_姓名_学号```\n",
    "\n",
    "📂 **文件命名格式**：\n",
    "```ECO_HW2_姓名_学号.ipynb```\n",
    "\n",
    "📅 **截止提交日期**：\n",
    "👉 **2025 年 4 月 16日（星期三上课前）**\n",
    "\n",
    "---\n",
    "\n",
    "## 📘 作业任务：Logit 模型估计与结果解读\n",
    "\n",
    "请使用 `wooldridge` 数据集中的 `mroz` 数据，完成如下 Logit 模型估计任务：\n",
    "\n",
    "### 模型设定：\n",
    "$$\n",
    "\\text{inlf} = \\text{是否参与劳动力市场 (二值变量)}\n",
    "\\Pr(\\text{inlf} = 1) = \\Lambda(\\alpha + \\beta_1 \\cdot \\text{nwifeinc} + \\beta_2 \\cdot \\text{educ} + \\beta_3 \\cdot \\text{exper} + \\beta_4 \\cdot \\text{age} + \\beta_5 \\cdot \\text{kidslt6})\n",
    "$$\n",
    "\n",
    "其中，$\\Lambda$ 是 Logit 函数，$\\alpha, \\beta_1, \\beta_2, \\beta_3, \\beta_4, \\beta_5$ 是待估计的参数。\n",
    "\n",
    "---"
   ]
  },
  {
   "cell_type": "code",
   "execution_count": null,
   "id": "1b85d1d9d9d2fe1d",
   "metadata": {
    "ExecuteTime": {
     "end_time": "2025-03-17T05:08:27.169366Z",
     "start_time": "2025-03-17T05:08:27.149564Z"
    },
    "collapsed": false
   },
   "outputs": [],
   "source": [
    "import wooldridge as woo # 加载数据集\n",
    "mroz = woo.dataWoo('mroz')\n",
    "print(\"数据集基本信息:\")\n",
    "print(mroz.info())\n"
   ]
  },
  {
   "cell_type": "markdown",
   "id": "ae155f49f86a6b39",
   "metadata": {},
   "source": [
    "### **任务一：调用 `import statsmodels.api as sm` 库中的 Logit 模型，对上述数据进行拟合，得到模型参数估计值。**\n",
    "- 使用 `method='newton', disp=0` 和 `method='bfgs', disp=0` 参数进行拟合，得到模型参数估计值。\n",
    "---"
   ]
  },
  {
   "cell_type": "code",
   "execution_count": null,
   "id": "eab151e3",
   "metadata": {},
   "outputs": [],
   "source": []
  },
  {
   "cell_type": "markdown",
   "id": "5dd1d524dad9dfde",
   "metadata": {},
   "source": [
    "### **任务二：使用矩阵计算方法求解Logit模型的系数和标准误差**"
   ]
  },
  {
   "cell_type": "code",
   "execution_count": null,
   "id": "5510f1a4",
   "metadata": {},
   "outputs": [],
   "source": []
  }
 ],
 "metadata": {
  "kernelspec": {
   "display_name": "myenv_io",
   "language": "python",
   "name": "python3"
  },
  "language_info": {
   "codemirror_mode": {
    "name": "ipython",
    "version": 3
   },
   "file_extension": ".py",
   "mimetype": "text/x-python",
   "name": "python",
   "nbconvert_exporter": "python",
   "pygments_lexer": "ipython3",
   "version": "3.13.2"
  }
 },
 "nbformat": 4,
 "nbformat_minor": 5
}
