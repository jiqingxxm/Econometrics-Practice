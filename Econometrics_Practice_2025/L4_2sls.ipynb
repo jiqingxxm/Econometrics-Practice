{
 "cells": [
  {
   "cell_type": "markdown",
   "id": "dc1a05af869c4ca4",
   "metadata": {},
   "source": [
    "# 两阶段最小二乘练习"
   ]
  },
  {
   "cell_type": "code",
   "execution_count": 1,
   "id": "6040f8b2b0b21672",
   "metadata": {
    "ExecuteTime": {
     "end_time": "2025-03-10T06:50:48.400550Z",
     "start_time": "2025-03-10T06:50:48.392567Z"
    }
   },
   "outputs": [],
   "source": [
    "import wooldridge as woo\n",
    "import numpy as np"
   ]
  },
  {
   "cell_type": "code",
   "execution_count": 2,
   "id": "1b85d1d9d9d2fe1d",
   "metadata": {
    "ExecuteTime": {
     "end_time": "2025-03-10T06:50:48.640330Z",
     "start_time": "2025-03-10T06:50:48.572028Z"
    },
    "collapsed": false
   },
   "outputs": [
    {
     "data": {
      "text/html": [
       "<div>\n",
       "<style scoped>\n",
       "    .dataframe tbody tr th:only-of-type {\n",
       "        vertical-align: middle;\n",
       "    }\n",
       "\n",
       "    .dataframe tbody tr th {\n",
       "        vertical-align: top;\n",
       "    }\n",
       "\n",
       "    .dataframe thead th {\n",
       "        text-align: right;\n",
       "    }\n",
       "</style>\n",
       "<table border=\"1\" class=\"dataframe\">\n",
       "  <thead>\n",
       "    <tr style=\"text-align: right;\">\n",
       "      <th></th>\n",
       "      <th>inlf</th>\n",
       "      <th>hours</th>\n",
       "      <th>kidslt6</th>\n",
       "      <th>kidsge6</th>\n",
       "      <th>age</th>\n",
       "      <th>educ</th>\n",
       "      <th>wage</th>\n",
       "      <th>repwage</th>\n",
       "      <th>hushrs</th>\n",
       "      <th>husage</th>\n",
       "      <th>...</th>\n",
       "      <th>faminc</th>\n",
       "      <th>mtr</th>\n",
       "      <th>motheduc</th>\n",
       "      <th>fatheduc</th>\n",
       "      <th>unem</th>\n",
       "      <th>city</th>\n",
       "      <th>exper</th>\n",
       "      <th>nwifeinc</th>\n",
       "      <th>lwage</th>\n",
       "      <th>expersq</th>\n",
       "    </tr>\n",
       "  </thead>\n",
       "  <tbody>\n",
       "    <tr>\n",
       "      <th>0</th>\n",
       "      <td>1</td>\n",
       "      <td>1610</td>\n",
       "      <td>1</td>\n",
       "      <td>0</td>\n",
       "      <td>32</td>\n",
       "      <td>12</td>\n",
       "      <td>3.3540</td>\n",
       "      <td>2.65</td>\n",
       "      <td>2708</td>\n",
       "      <td>34</td>\n",
       "      <td>...</td>\n",
       "      <td>16310.0</td>\n",
       "      <td>0.7215</td>\n",
       "      <td>12</td>\n",
       "      <td>7</td>\n",
       "      <td>5.0</td>\n",
       "      <td>0</td>\n",
       "      <td>14</td>\n",
       "      <td>10.910060</td>\n",
       "      <td>1.210154</td>\n",
       "      <td>196</td>\n",
       "    </tr>\n",
       "    <tr>\n",
       "      <th>1</th>\n",
       "      <td>1</td>\n",
       "      <td>1656</td>\n",
       "      <td>0</td>\n",
       "      <td>2</td>\n",
       "      <td>30</td>\n",
       "      <td>12</td>\n",
       "      <td>1.3889</td>\n",
       "      <td>2.65</td>\n",
       "      <td>2310</td>\n",
       "      <td>30</td>\n",
       "      <td>...</td>\n",
       "      <td>21800.0</td>\n",
       "      <td>0.6615</td>\n",
       "      <td>7</td>\n",
       "      <td>7</td>\n",
       "      <td>11.0</td>\n",
       "      <td>1</td>\n",
       "      <td>5</td>\n",
       "      <td>19.499981</td>\n",
       "      <td>0.328512</td>\n",
       "      <td>25</td>\n",
       "    </tr>\n",
       "    <tr>\n",
       "      <th>2</th>\n",
       "      <td>1</td>\n",
       "      <td>1980</td>\n",
       "      <td>1</td>\n",
       "      <td>3</td>\n",
       "      <td>35</td>\n",
       "      <td>12</td>\n",
       "      <td>4.5455</td>\n",
       "      <td>4.04</td>\n",
       "      <td>3072</td>\n",
       "      <td>40</td>\n",
       "      <td>...</td>\n",
       "      <td>21040.0</td>\n",
       "      <td>0.6915</td>\n",
       "      <td>12</td>\n",
       "      <td>7</td>\n",
       "      <td>5.0</td>\n",
       "      <td>0</td>\n",
       "      <td>15</td>\n",
       "      <td>12.039910</td>\n",
       "      <td>1.514138</td>\n",
       "      <td>225</td>\n",
       "    </tr>\n",
       "    <tr>\n",
       "      <th>3</th>\n",
       "      <td>1</td>\n",
       "      <td>456</td>\n",
       "      <td>0</td>\n",
       "      <td>3</td>\n",
       "      <td>34</td>\n",
       "      <td>12</td>\n",
       "      <td>1.0965</td>\n",
       "      <td>3.25</td>\n",
       "      <td>1920</td>\n",
       "      <td>53</td>\n",
       "      <td>...</td>\n",
       "      <td>7300.0</td>\n",
       "      <td>0.7815</td>\n",
       "      <td>7</td>\n",
       "      <td>7</td>\n",
       "      <td>5.0</td>\n",
       "      <td>0</td>\n",
       "      <td>6</td>\n",
       "      <td>6.799996</td>\n",
       "      <td>0.092123</td>\n",
       "      <td>36</td>\n",
       "    </tr>\n",
       "    <tr>\n",
       "      <th>4</th>\n",
       "      <td>1</td>\n",
       "      <td>1568</td>\n",
       "      <td>1</td>\n",
       "      <td>2</td>\n",
       "      <td>31</td>\n",
       "      <td>14</td>\n",
       "      <td>4.5918</td>\n",
       "      <td>3.60</td>\n",
       "      <td>2000</td>\n",
       "      <td>32</td>\n",
       "      <td>...</td>\n",
       "      <td>27300.0</td>\n",
       "      <td>0.6215</td>\n",
       "      <td>12</td>\n",
       "      <td>14</td>\n",
       "      <td>9.5</td>\n",
       "      <td>1</td>\n",
       "      <td>7</td>\n",
       "      <td>20.100058</td>\n",
       "      <td>1.524272</td>\n",
       "      <td>49</td>\n",
       "    </tr>\n",
       "    <tr>\n",
       "      <th>...</th>\n",
       "      <td>...</td>\n",
       "      <td>...</td>\n",
       "      <td>...</td>\n",
       "      <td>...</td>\n",
       "      <td>...</td>\n",
       "      <td>...</td>\n",
       "      <td>...</td>\n",
       "      <td>...</td>\n",
       "      <td>...</td>\n",
       "      <td>...</td>\n",
       "      <td>...</td>\n",
       "      <td>...</td>\n",
       "      <td>...</td>\n",
       "      <td>...</td>\n",
       "      <td>...</td>\n",
       "      <td>...</td>\n",
       "      <td>...</td>\n",
       "      <td>...</td>\n",
       "      <td>...</td>\n",
       "      <td>...</td>\n",
       "      <td>...</td>\n",
       "    </tr>\n",
       "    <tr>\n",
       "      <th>423</th>\n",
       "      <td>1</td>\n",
       "      <td>680</td>\n",
       "      <td>0</td>\n",
       "      <td>5</td>\n",
       "      <td>36</td>\n",
       "      <td>10</td>\n",
       "      <td>2.3118</td>\n",
       "      <td>0.00</td>\n",
       "      <td>3430</td>\n",
       "      <td>43</td>\n",
       "      <td>...</td>\n",
       "      <td>19772.0</td>\n",
       "      <td>0.7215</td>\n",
       "      <td>7</td>\n",
       "      <td>7</td>\n",
       "      <td>7.5</td>\n",
       "      <td>0</td>\n",
       "      <td>2</td>\n",
       "      <td>18.199976</td>\n",
       "      <td>0.838026</td>\n",
       "      <td>4</td>\n",
       "    </tr>\n",
       "    <tr>\n",
       "      <th>424</th>\n",
       "      <td>1</td>\n",
       "      <td>2450</td>\n",
       "      <td>0</td>\n",
       "      <td>1</td>\n",
       "      <td>40</td>\n",
       "      <td>12</td>\n",
       "      <td>5.3061</td>\n",
       "      <td>6.50</td>\n",
       "      <td>2008</td>\n",
       "      <td>40</td>\n",
       "      <td>...</td>\n",
       "      <td>35641.0</td>\n",
       "      <td>0.6215</td>\n",
       "      <td>7</td>\n",
       "      <td>7</td>\n",
       "      <td>5.0</td>\n",
       "      <td>1</td>\n",
       "      <td>21</td>\n",
       "      <td>22.641056</td>\n",
       "      <td>1.668857</td>\n",
       "      <td>441</td>\n",
       "    </tr>\n",
       "    <tr>\n",
       "      <th>425</th>\n",
       "      <td>1</td>\n",
       "      <td>2144</td>\n",
       "      <td>0</td>\n",
       "      <td>2</td>\n",
       "      <td>43</td>\n",
       "      <td>13</td>\n",
       "      <td>5.8675</td>\n",
       "      <td>0.00</td>\n",
       "      <td>2140</td>\n",
       "      <td>43</td>\n",
       "      <td>...</td>\n",
       "      <td>34220.0</td>\n",
       "      <td>0.5815</td>\n",
       "      <td>7</td>\n",
       "      <td>7</td>\n",
       "      <td>7.5</td>\n",
       "      <td>1</td>\n",
       "      <td>22</td>\n",
       "      <td>21.640079</td>\n",
       "      <td>1.769429</td>\n",
       "      <td>484</td>\n",
       "    </tr>\n",
       "    <tr>\n",
       "      <th>426</th>\n",
       "      <td>1</td>\n",
       "      <td>1760</td>\n",
       "      <td>0</td>\n",
       "      <td>1</td>\n",
       "      <td>33</td>\n",
       "      <td>12</td>\n",
       "      <td>3.4091</td>\n",
       "      <td>3.21</td>\n",
       "      <td>3380</td>\n",
       "      <td>34</td>\n",
       "      <td>...</td>\n",
       "      <td>30000.0</td>\n",
       "      <td>0.5815</td>\n",
       "      <td>12</td>\n",
       "      <td>16</td>\n",
       "      <td>11.0</td>\n",
       "      <td>1</td>\n",
       "      <td>14</td>\n",
       "      <td>23.999985</td>\n",
       "      <td>1.226448</td>\n",
       "      <td>196</td>\n",
       "    </tr>\n",
       "    <tr>\n",
       "      <th>427</th>\n",
       "      <td>1</td>\n",
       "      <td>490</td>\n",
       "      <td>0</td>\n",
       "      <td>1</td>\n",
       "      <td>30</td>\n",
       "      <td>12</td>\n",
       "      <td>4.0816</td>\n",
       "      <td>2.46</td>\n",
       "      <td>2430</td>\n",
       "      <td>33</td>\n",
       "      <td>...</td>\n",
       "      <td>18000.0</td>\n",
       "      <td>0.6915</td>\n",
       "      <td>12</td>\n",
       "      <td>12</td>\n",
       "      <td>7.5</td>\n",
       "      <td>1</td>\n",
       "      <td>7</td>\n",
       "      <td>16.000015</td>\n",
       "      <td>1.406489</td>\n",
       "      <td>49</td>\n",
       "    </tr>\n",
       "  </tbody>\n",
       "</table>\n",
       "<p>428 rows × 22 columns</p>\n",
       "</div>"
      ],
      "text/plain": [
       "     inlf  hours  kidslt6  kidsge6  age  educ    wage  repwage  hushrs  \\\n",
       "0       1   1610        1        0   32    12  3.3540     2.65    2708   \n",
       "1       1   1656        0        2   30    12  1.3889     2.65    2310   \n",
       "2       1   1980        1        3   35    12  4.5455     4.04    3072   \n",
       "3       1    456        0        3   34    12  1.0965     3.25    1920   \n",
       "4       1   1568        1        2   31    14  4.5918     3.60    2000   \n",
       "..    ...    ...      ...      ...  ...   ...     ...      ...     ...   \n",
       "423     1    680        0        5   36    10  2.3118     0.00    3430   \n",
       "424     1   2450        0        1   40    12  5.3061     6.50    2008   \n",
       "425     1   2144        0        2   43    13  5.8675     0.00    2140   \n",
       "426     1   1760        0        1   33    12  3.4091     3.21    3380   \n",
       "427     1    490        0        1   30    12  4.0816     2.46    2430   \n",
       "\n",
       "     husage  ...   faminc     mtr  motheduc  fatheduc  unem  city  exper  \\\n",
       "0        34  ...  16310.0  0.7215        12         7   5.0     0     14   \n",
       "1        30  ...  21800.0  0.6615         7         7  11.0     1      5   \n",
       "2        40  ...  21040.0  0.6915        12         7   5.0     0     15   \n",
       "3        53  ...   7300.0  0.7815         7         7   5.0     0      6   \n",
       "4        32  ...  27300.0  0.6215        12        14   9.5     1      7   \n",
       "..      ...  ...      ...     ...       ...       ...   ...   ...    ...   \n",
       "423      43  ...  19772.0  0.7215         7         7   7.5     0      2   \n",
       "424      40  ...  35641.0  0.6215         7         7   5.0     1     21   \n",
       "425      43  ...  34220.0  0.5815         7         7   7.5     1     22   \n",
       "426      34  ...  30000.0  0.5815        12        16  11.0     1     14   \n",
       "427      33  ...  18000.0  0.6915        12        12   7.5     1      7   \n",
       "\n",
       "      nwifeinc     lwage  expersq  \n",
       "0    10.910060  1.210154      196  \n",
       "1    19.499981  0.328512       25  \n",
       "2    12.039910  1.514138      225  \n",
       "3     6.799996  0.092123       36  \n",
       "4    20.100058  1.524272       49  \n",
       "..         ...       ...      ...  \n",
       "423  18.199976  0.838026        4  \n",
       "424  22.641056  1.668857      441  \n",
       "425  21.640079  1.769429      484  \n",
       "426  23.999985  1.226448      196  \n",
       "427  16.000015  1.406489       49  \n",
       "\n",
       "[428 rows x 22 columns]"
      ]
     },
     "execution_count": 2,
     "metadata": {},
     "output_type": "execute_result"
    }
   ],
   "source": [
    "mroz = woo.dataWoo('mroz')\n",
    "mroz = mroz.dropna(subset=['lwage']) # restrict to non-missing wage observations\n",
    "mroz"
   ]
  },
  {
   "cell_type": "markdown",
   "id": "a01cb0711b3d3cbf",
   "metadata": {},
   "source": [
    "### 求解模型：$ln(wage) = \\beta_0 + \\beta_1 \\cdot educ + \\beta_2 \\cdot exper  + \\beta_3 \\cdot expersq  + \\epsilon$\n",
    "- 其中，$educ$为内生变量，其工具变量为 $constant$, $exper$, $expersq$, $motheduc$, $fatheduc$"
   ]
  },
  {
   "cell_type": "markdown",
   "id": "5a73fe08e1397d89",
   "metadata": {
    "collapsed": false
   },
   "source": [
    "#### 方法一：\n",
    "\n",
    "##### 第1阶段：用工具变量对内生变量回归，得到内生变量的拟合值\n",
    "- 模型：$educ = \\beta_0 + \\beta_1 \\cdot exper  + \\beta_2 \\cdot expersq  + \\beta_3 \\cdot motheduc + \\beta_4 \\cdot fatheduc + \\epsilon$\n",
    "- 结果：$\\hat{educ} = 9.1026 + 0.0452 \\cdot exper -0.0010 \\cdot expersq +  0.1576 \\cdot motheduc + 0.1895 \\cdot fatheduc$\n",
    "\n"
   ]
  },
  {
   "cell_type": "code",
   "execution_count": 3,
   "id": "a24f00d744508ce6",
   "metadata": {
    "ExecuteTime": {
     "end_time": "2025-03-10T06:50:48.750687Z",
     "start_time": "2025-03-10T06:50:48.736702Z"
    },
    "collapsed": false
   },
   "outputs": [
    {
     "name": "stdout",
     "output_type": "stream",
     "text": [
      "cons: 9.1026\n",
      "exper: 0.0452\n",
      "expersq: -0.0010\n",
      "motheduc: 0.1576\n",
      "fatheduc: 0.1895\n"
     ]
    }
   ],
   "source": [
    "y = mroz['educ']\n",
    "x1 = np.ones(y.shape)\n",
    "x2 = mroz['exper']\n",
    "x3 = mroz['expersq']\n",
    "x4 = mroz['motheduc']\n",
    "x5 = mroz['fatheduc']\n",
    "X_1st = np.c_[x1,x2, x3, x4,x5]\n",
    "beta_1st = np.linalg.inv(X_1st.T @ X_1st) @ X_1st.T @ y\n",
    "educ_hat = X_1st @ beta_1st\n",
    "\n",
    "print(f'cons: {beta_1st[0]:.4f}')\n",
    "print(f'exper: {beta_1st[1]:.4f}')\n",
    "print(f'expersq: {beta_1st[2]:.4f}')\n",
    "print(f'motheduc: {beta_1st[3]:.4f}')\n",
    "print(f'fatheduc: {beta_1st[4]:.4f}')"
   ]
  },
  {
   "cell_type": "markdown",
   "id": "8fe1058e2b86228d",
   "metadata": {},
   "source": [
    "##### 第2阶段：将内生变量的拟合值和其他非内生变量相结合X，然后用y对其回归\n",
    "- 模型：$ln(wage) = \\beta_0 + \\beta_1 \\cdot \\hat{educ} + \\beta_2 \\cdot exper  + \\beta_3 \\cdot expersq  + \\epsilon$\n",
    "- 结果：$\\hat{ln(wage)} = 0.0481 +  0.1576 \\cdot \\hat{educ} + 0.0442 \\cdot exper - 0.0009 \\cdot expersq $"
   ]
  },
  {
   "cell_type": "code",
   "execution_count": 4,
   "id": "9fe89eb8b5a546e2",
   "metadata": {
    "ExecuteTime": {
     "end_time": "2025-03-10T06:50:49.073949Z",
     "start_time": "2025-03-10T06:50:49.062548Z"
    }
   },
   "outputs": [
    {
     "name": "stdout",
     "output_type": "stream",
     "text": [
      "cons: 0.0481\n",
      "educ: 0.0614\n",
      "exper: 0.0442\n",
      "expersq: -0.0009\n"
     ]
    }
   ],
   "source": [
    "ln_wage = mroz['lwage']\n",
    "\n",
    "cons = np.ones(ln_wage.shape)\n",
    "exper = mroz['exper']\n",
    "expersq = mroz['expersq']\n",
    "\n",
    "X_2ed = np.c_[cons,educ_hat,exper,expersq]\n",
    "beta_2ed = np.linalg.inv(X_2ed.T @ X_2ed) @ X_2ed.T @ ln_wage\n",
    "ln_wage_hat = X_2ed @ beta_2ed\n",
    "\n",
    "print(f'cons: {beta_2ed[0]:.4f}')\n",
    "print(f'educ: {beta_2ed[1]:.4f}')\n",
    "print(f'exper: {beta_2ed[2]:.4f}')\n",
    "print(f'expersq: {beta_2ed[3]:.4f}')"
   ]
  },
  {
   "cell_type": "markdown",
   "id": "2035a4376791c3db",
   "metadata": {},
   "source": [
    "方法二：\n",
    "直接求解：$ \\beta = (X'Z(Z'Z)^{-1}Z'X)^{-1} X'Z(Z'Z)^{-1}Z'y$"
   ]
  },
  {
   "cell_type": "code",
   "execution_count": 5,
   "id": "6dba0a11be9b6ab2",
   "metadata": {
    "ExecuteTime": {
     "end_time": "2025-03-10T06:50:49.489448Z",
     "start_time": "2025-03-10T06:50:49.465331Z"
    },
    "collapsed": false
   },
   "outputs": [
    {
     "name": "stdout",
     "output_type": "stream",
     "text": [
      "cons: 0.0481\n",
      "educ: 0.0614\n",
      "exper: 0.0442\n",
      "expersq: -0.0009\n"
     ]
    }
   ],
   "source": [
    "X = np.c_[cons,mroz['educ'],exper,expersq]\n",
    "Z = np.c_[cons,mroz['exper'], mroz['expersq'], mroz['motheduc'], mroz['fatheduc']]\n",
    "\n",
    "temp1 = np.linalg.inv(Z.T @ Z)\n",
    "beta = np.linalg.inv(X.T @ Z @ temp1 @ Z.T @ X) @ X.T @ Z @ temp1 @ Z.T @ ln_wage\n",
    "\n",
    "print(f'cons: {beta[0]:.4f}')\n",
    "print(f'educ: {beta[1]:.4f}')\n",
    "print(f'exper: {beta[2]:.4f}')\n",
    "print(f'expersq: {beta[3]:.4f}')"
   ]
  },
  {
   "cell_type": "code",
   "execution_count": 6,
   "id": "d1105e23ddef4372",
   "metadata": {
    "ExecuteTime": {
     "end_time": "2025-03-10T06:50:49.790373Z",
     "start_time": "2025-03-10T06:50:49.753266Z"
    }
   },
   "outputs": [
    {
     "name": "stdout",
     "output_type": "stream",
     "text": [
      "                          IV-2SLS Estimation Summary                          \n",
      "==============================================================================\n",
      "Dep. Variable:                  lwage   R-squared:                      0.1357\n",
      "Estimator:                    IV-2SLS   Adj. R-squared:                 0.1296\n",
      "No. Observations:                 428   F-statistic:                    24.653\n",
      "Date:                Thu, Mar 27 2025   P-value (F-stat)                0.0000\n",
      "Time:                        17:39:10   Distribution:                  chi2(3)\n",
      "Cov. Estimator:         homoskedastic                                         \n",
      "                                                                              \n",
      "                             Parameter Estimates                              \n",
      "==============================================================================\n",
      "            Parameter  Std. Err.     T-stat    P-value    Lower CI    Upper CI\n",
      "------------------------------------------------------------------------------\n",
      "exog.0         0.0481     0.3985     0.1207     0.9039     -0.7329      0.8291\n",
      "exog.1         0.0442     0.0134     3.3038     0.0010      0.0180      0.0704\n",
      "exog.2        -0.0009     0.0004    -2.2485     0.0245     -0.0017     -0.0001\n",
      "educ           0.0614     0.0313     1.9622     0.0497   7.043e-05      0.1227\n",
      "==============================================================================\n",
      "\n",
      "Endogenous: educ\n",
      "Instruments: instruments.0, instruments.1\n",
      "Unadjusted Covariance (Homoskedastic)\n",
      "Debiased: False\n"
     ]
    }
   ],
   "source": [
    "from linearmodels.iv import IV2SLS\n",
    "\n",
    "exog = np.c_[cons,exper,expersq]\n",
    "endog = mroz['educ']\n",
    "instruments = np.c_[mroz['motheduc'], mroz['fatheduc']]\n",
    "model = IV2SLS(ln_wage, exog, endog, instruments)\n",
    "results1 = model.fit(cov_type = \"homoskedastic\")\n",
    "print(results1.summary)"
   ]
  },
  {
   "cell_type": "markdown",
   "id": "735df8533c39579",
   "metadata": {},
   "source": [
    "### 拓展：如果 $educ$的工具变量为 $motheduc$, $fatheduc$ 呢？"
   ]
  },
  {
   "cell_type": "code",
   "execution_count": 7,
   "id": "d308fd0fb3fd92a1",
   "metadata": {
    "ExecuteTime": {
     "end_time": "2025-03-10T06:50:49.868958Z",
     "start_time": "2025-03-10T06:50:49.859044Z"
    }
   },
   "outputs": [
    {
     "name": "stdout",
     "output_type": "stream",
     "text": [
      "cons: 0.6141\n",
      "educ: 0.0161\n",
      "exper: 0.0470\n",
      "expersq: -0.0010\n"
     ]
    }
   ],
   "source": [
    "X_1st = np.c_[mroz['motheduc'], mroz['fatheduc']]\n",
    "beta_1st = np.linalg.inv(X_1st.T @ X_1st) @ X_1st.T @ mroz['educ']\n",
    "educ_hat = X_1st @ beta_1st\n",
    "\n",
    "ln_wage = np.log(mroz['wage'])\n",
    "X_2ed = np.c_[np.ones(ln_wage.shape),educ_hat,mroz['exper'],mroz['expersq']]\n",
    "beta_2ed = np.linalg.inv(X_2ed.T @ X_2ed) @ X_2ed.T @ ln_wage\n",
    "\n",
    "print(f'cons: {beta_2ed[0]:.4f}')\n",
    "print(f'educ: {beta_2ed[1]:.4f}')\n",
    "print(f'exper: {beta_2ed[2]:.4f}')\n",
    "print(f'expersq: {beta_2ed[3]:.4f}')"
   ]
  },
  {
   "cell_type": "code",
   "execution_count": null,
   "id": "c4c21655e4e489f0",
   "metadata": {
    "ExecuteTime": {
     "end_time": "2025-03-10T06:50:49.942525Z",
     "start_time": "2025-03-10T06:50:49.938213Z"
    }
   },
   "outputs": [],
   "source": []
  }
 ],
 "metadata": {
  "kernelspec": {
   "display_name": "myenv_econ",
   "language": "python",
   "name": "python3"
  },
  "language_info": {
   "codemirror_mode": {
    "name": "ipython",
    "version": 3
   },
   "file_extension": ".py",
   "mimetype": "text/x-python",
   "name": "python",
   "nbconvert_exporter": "python",
   "pygments_lexer": "ipython3",
   "version": "3.13.2"
  }
 },
 "nbformat": 4,
 "nbformat_minor": 5
}
