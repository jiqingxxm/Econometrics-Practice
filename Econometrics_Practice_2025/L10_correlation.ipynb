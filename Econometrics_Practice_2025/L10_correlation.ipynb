{
 "cells": [
  {
   "cell_type": "markdown",
   "metadata": {},
   "source": [
    "# 变量之间的相关性分析实践\n",
    "\n",
    "变量相关性分析旨在量化两个变量之间关系的强弱程度。常用的方法包括**皮尔逊相关系数**、**点二列相关系数**、**偏相关系数**、**斯皮尔曼相关系数**和**肯德尔秩相关系数**。\n",
    "\n"
   ]
  },
  {
   "cell_type": "markdown",
   "metadata": {},
   "source": [
    "## 皮尔逊相关系数\n",
    "\n",
    "本节首先通过示例数据演示如何手动计算和使用 Python 库函数验证皮尔逊相关系数：\n",
    "\n",
    "$$r_{XY} = \\frac{\\sum_{i=1}^{n}(X_i-\\bar{X})(Y_i-\\bar{Y})}{\\sqrt{\\sum_{i=1}^{n}(X_i-\\bar{X})^2}\\sqrt{\\sum_{i=1}^{n}(Y_i-\\bar{Y})^2}}$$\n",
    "\n"
   ]
  },
  {
   "cell_type": "code",
   "execution_count": 6,
   "metadata": {},
   "outputs": [
    {
     "name": "stdout",
     "output_type": "stream",
     "text": [
      "皮尔逊相关系数（手动计算）: 0.9080\n",
      "皮尔逊相关系数（scipy）: 0.9080\n",
      "P 值: 0.0331\n"
     ]
    }
   ],
   "source": [
    "import numpy as np\n",
    "from scipy import stats\n",
    "\n",
    "# 示例数据：身高（米）与体重（kg）\n",
    "X = np.array([1.70, 1.80, 1.75, 1.68, 1.82])\n",
    "Y = np.array([65, 78, 72, 66, 74])\n",
    "\n",
    "# 数据中心化\n",
    "X_centered = X - X.mean()\n",
    "Y_centered = Y - Y.mean()\n",
    "\n",
    "# 手动计算皮尔逊相关系数\n",
    "r_manual = np.sum(X_centered * Y_centered) / np.sqrt(np.sum(X_centered**2) * np.sum(Y_centered**2))\n",
    "print(f\"皮尔逊相关系数（手动计算）: {r_manual:.4f}\")\n",
    "\n",
    "# 使用 scipy 库计算并验证结果\n",
    "r_scipy, p_value = stats.pearsonr(X, Y)\n",
    "print(f\"皮尔逊相关系数（scipy）: {r_scipy:.4f}\")\n",
    "print(f\"P 值: {p_value:.4f}\")"
   ]
  },
  {
   "cell_type": "markdown",
   "metadata": {},
   "source": [
    "## 点二列相关系数\n",
    "当其中一个变量为二分类变量（0或1）时，我们采用**点二列相关系数**进行分析\n",
    "$$r_{pb} = \\frac{\\bar{X}_1 - \\bar{X}_0}{s_X}\\sqrt{\\frac{n_1 n_0}{n^2}}$$"
   ]
  },
  {
   "cell_type": "code",
   "execution_count": 7,
   "metadata": {},
   "outputs": [
    {
     "name": "stdout",
     "output_type": "stream",
     "text": [
      "点二列相关系数（手动计算）: -0.9522\n",
      "点二列相关系数（scipy）: -0.9522\n",
      "P 值: 0.0124\n"
     ]
    }
   ],
   "source": [
    "import numpy as np\n",
    "from scipy import stats\n",
    "\n",
    "# 示例数据：game 为二分类变量（是否玩游戏），score 为连续变量（考试成绩）\n",
    "game = np.array([1, 0, 1, 0, 1])  \n",
    "score = np.array([65, 95, 70, 90, 75])  \n",
    "\n",
    "# 样本量和分组情况\n",
    "n1, n0 = np.sum(game == 1), np.sum(game == 0)\n",
    "n = len(game)\n",
    "\n",
    "# 计算各组平均成绩\n",
    "mean1, mean0 = score[game == 1].mean(), score[game == 0].mean()\n",
    "\n",
    "# 标准差使用总体标准差\n",
    "s_x = np.std(score, ddof=0)\n",
    "\n",
    "# 点二列相关系数手动计算\n",
    "r_pb_manual = (mean1 - mean0) / s_x * np.sqrt(n1 * n0 / n**2)\n",
    "print(f\"点二列相关系数（手动计算）: {r_pb_manual:.4f}\")\n",
    "\n",
    "# scipy库验证\n",
    "r_pb, p_value = stats.pointbiserialr(game, score)\n",
    "print(f\"点二列相关系数（scipy）: {r_pb:.4f}\")\n",
    "print(f\"P 值: {p_value:.4f}\")"
   ]
  },
  {
   "cell_type": "markdown",
   "metadata": {},
   "source": [
    "## 偏相关系数：\n",
    "但实际研究中，我们经常需要控制其他变量的影响，这时需要用到**偏相关系数**：\n",
    "\n",
    "$$r_{XY.Z} = \\frac{r_{XY} - r_{XZ}r_{YZ}}{\\sqrt{(1-r_{XZ}^2)(1-r_{YZ}^2)}}$$"
   ]
  },
  {
   "cell_type": "code",
   "execution_count": 8,
   "metadata": {},
   "outputs": [
    {
     "name": "stdout",
     "output_type": "stream",
     "text": [
      "简单相关系数: 0.9939\n",
      "偏相关系数（控制气温后）: 0.3744\n",
      "偏相关系数（pingouin）: 0.3744\n",
      "P 值: 0.4647\n"
     ]
    }
   ],
   "source": [
    "import numpy as np\n",
    "import pandas as pd\n",
    "from scipy import stats\n",
    "import pingouin as pg\n",
    "\n",
    "# 示例数据：气温可能同时影响冰淇淋销量和游泳人数\n",
    "temperature = np.array([22, 25, 28, 31, 34, 37, 40])\n",
    "ice_cream = np.array([12, 18, 21, 26, 28, 35, 38])\n",
    "swimming = np.array([8, 12, 16, 21, 23, 27, 30])\n",
    "\n",
    "# 计算简单相关系数\n",
    "r_xy = stats.pearsonr(ice_cream, swimming)[0]\n",
    "r_xz = stats.pearsonr(ice_cream, temperature)[0]\n",
    "r_yz = stats.pearsonr(swimming, temperature)[0]\n",
    "\n",
    "# 手动计算偏相关系数（控制temperature）\n",
    "r_xy_z = (r_xy - r_xz * r_yz) / np.sqrt((1 - r_xz**2) * (1 - r_yz**2))\n",
    "print(f\"简单相关系数: {r_xy:.4f}\")\n",
    "print(f\"偏相关系数（控制气温后）: {r_xy_z:.4f}\")\n",
    "\n",
    "# 使用 pingouin 库验证偏相关系数\n",
    "df = pd.DataFrame({'ice_cream': ice_cream, 'swimming': swimming, 'temperature': temperature})\n",
    "pcorr = pg.partial_corr(data=df, x='ice_cream', y='swimming', covar='temperature')\n",
    "print(f\"偏相关系数（pingouin）: {pcorr['r'].values[0]:.4f}\")\n",
    "print(f\"P 值: {pcorr['p-val'].values[0]:.4f}\")"
   ]
  },
  {
   "cell_type": "markdown",
   "metadata": {},
   "source": [
    "## 斯皮尔曼相关系数\n",
    "\n",
    "适用于数据不满足正态分布假设或存在明显异常值的情形：\n",
    "\n",
    "$$\n",
    "r_s = 1 - \\frac{6\\sum_{i=1}^n d_i^2}{n(n^2-1)}\n",
    "$$"
   ]
  },
  {
   "cell_type": "code",
   "execution_count": 9,
   "metadata": {},
   "outputs": [
    {
     "name": "stdout",
     "output_type": "stream",
     "text": [
      "斯皮尔曼相关系数（手动计算）: 0.9000\n",
      "斯皮尔曼相关系数（scipy）: 0.9000\n",
      "P 值: 0.0374\n"
     ]
    }
   ],
   "source": [
    "import numpy as np\n",
    "from scipy import stats\n",
    "\n",
    "# 示例数据（带波动）\n",
    "X = np.array([100, 200, 500, 300, 150])  # 刷题量\n",
    "Y = np.array([85, 88, 91, 87, 86])       # 考试分数\n",
    "\n",
    "rank_X = stats.rankdata(X)\n",
    "rank_Y = stats.rankdata(Y)\n",
    "\n",
    "# 计算排名差的平方和\n",
    "d_squared = np.sum((rank_X - rank_Y)**2)\n",
    "n = len(X)\n",
    "r_s_manual = 1 - (6 * d_squared) / (n * (n**2 - 1))\n",
    "print(f\"斯皮尔曼相关系数（手动计算）: {r_s_manual:.4f}\")\n",
    "\n",
    "# 使用 scipy 验证\n",
    "r_s, p_value = stats.spearmanr(X, Y)\n",
    "print(f\"斯皮尔曼相关系数（scipy）: {r_s:.4f}\")\n",
    "print(f\"P 值: {p_value:.4f}\")"
   ]
  },
  {
   "cell_type": "markdown",
   "metadata": {},
   "source": [
    "## 肯德尔秩相关系数\n",
    "\n",
    "肯德尔秩相关系数关注变量排名之间的一致性，特别适用于较小样本：\n",
    "\n",
    "$$\n",
    "\\tau = \\frac{n_c - n_d}{\\frac{1}{2}n(n-1)}\n",
    "$$\n",
    "\n",
    "其中，$n_c$为协调对数，$n_d$为不协调对数。"
   ]
  },
  {
   "cell_type": "code",
   "execution_count": 10,
   "metadata": {},
   "outputs": [
    {
     "name": "stdout",
     "output_type": "stream",
     "text": [
      "协调对数量: 7\n",
      "不协调对数量: 3\n",
      "肯德尔相关系数（手动计算）: 0.4000\n",
      "肯德尔相关系数（scipy）: 0.4000\n",
      "P 值: 0.4833\n"
     ]
    }
   ],
   "source": [
    "import numpy as np\n",
    "from scipy import stats\n",
    "# 示例数据（非完美正相关）\n",
    "X = np.array([2, 4, 8, 6, 3])    # 刷题时长\n",
    "Y = np.array([65, 75, 85, 72, 78])  # 考试分数\n",
    "\n",
    "# 手动计算协调对 / 不协调对\n",
    "n = len(X)\n",
    "n_c = 0\n",
    "n_d = 0\n",
    "for i in range(n):\n",
    "    for j in range(i + 1, n):\n",
    "        if (X[j] - X[i]) * (Y[j] - Y[i]) > 0:\n",
    "            n_c += 1  # 协调对\n",
    "        elif (X[j] - X[i]) * (Y[j] - Y[i]) < 0:\n",
    "            n_d += 1  # 不协调对\n",
    "\n",
    "# 计算 Kendall's tau\n",
    "tau_manual = (n_c - n_d) / (0.5 * n * (n - 1))\n",
    "print(f\"协调对数量: {n_c}\")\n",
    "print(f\"不协调对数量: {n_d}\")\n",
    "print(f\"肯德尔相关系数（手动计算）: {tau_manual:.4f}\")\n",
    "\n",
    "# 使用 scipy 验证\n",
    "tau, p_value = stats.kendalltau(X, Y)\n",
    "print(f\"肯德尔相关系数（scipy）: {tau:.4f}\")\n",
    "print(f\"P 值: {p_value:.4f}\")"
   ]
  },
  {
   "cell_type": "code",
   "execution_count": null,
   "metadata": {},
   "outputs": [],
   "source": []
  }
 ],
 "metadata": {
  "kernelspec": {
   "display_name": "myenv_econ",
   "language": "python",
   "name": "python3"
  },
  "language_info": {
   "codemirror_mode": {
    "name": "ipython",
    "version": 3
   },
   "file_extension": ".py",
   "mimetype": "text/x-python",
   "name": "python",
   "nbconvert_exporter": "python",
   "pygments_lexer": "ipython3",
   "version": "3.13.2"
  }
 },
 "nbformat": 4,
 "nbformat_minor": 2
}
