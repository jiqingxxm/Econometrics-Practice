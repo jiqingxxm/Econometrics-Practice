{
 "cells": [
  {
   "cell_type": "code",
   "execution_count": 1,
   "id": "initial_id",
   "metadata": {
    "ExecuteTime": {
     "end_time": "2025-03-17T03:33:21.150169Z",
     "start_time": "2025-03-17T03:33:20.529019Z"
    },
    "collapsed": true
   },
   "outputs": [],
   "source": [
    "import wooldridge as woo\n",
    "import numpy as np"
   ]
  },
  {
   "cell_type": "code",
   "execution_count": 2,
   "id": "e7e49788db76159",
   "metadata": {
    "ExecuteTime": {
     "end_time": "2025-03-17T03:33:22.062256Z",
     "start_time": "2025-03-17T03:33:22.020774Z"
    }
   },
   "outputs": [
    {
     "data": {
      "text/html": [
       "<div>\n",
       "<style scoped>\n",
       "    .dataframe tbody tr th:only-of-type {\n",
       "        vertical-align: middle;\n",
       "    }\n",
       "\n",
       "    .dataframe tbody tr th {\n",
       "        vertical-align: top;\n",
       "    }\n",
       "\n",
       "    .dataframe thead th {\n",
       "        text-align: right;\n",
       "    }\n",
       "</style>\n",
       "<table border=\"1\" class=\"dataframe\">\n",
       "  <thead>\n",
       "    <tr style=\"text-align: right;\">\n",
       "      <th></th>\n",
       "      <th>salary</th>\n",
       "      <th>pcsalary</th>\n",
       "      <th>sales</th>\n",
       "      <th>roe</th>\n",
       "      <th>pcroe</th>\n",
       "      <th>ros</th>\n",
       "      <th>indus</th>\n",
       "      <th>finance</th>\n",
       "      <th>consprod</th>\n",
       "      <th>utility</th>\n",
       "      <th>lsalary</th>\n",
       "      <th>lsales</th>\n",
       "    </tr>\n",
       "  </thead>\n",
       "  <tbody>\n",
       "    <tr>\n",
       "      <th>0</th>\n",
       "      <td>1095</td>\n",
       "      <td>20</td>\n",
       "      <td>27595.000000</td>\n",
       "      <td>14.1</td>\n",
       "      <td>106.400002</td>\n",
       "      <td>191</td>\n",
       "      <td>1</td>\n",
       "      <td>0</td>\n",
       "      <td>0</td>\n",
       "      <td>0</td>\n",
       "      <td>6.998509</td>\n",
       "      <td>10.225389</td>\n",
       "    </tr>\n",
       "    <tr>\n",
       "      <th>1</th>\n",
       "      <td>1001</td>\n",
       "      <td>32</td>\n",
       "      <td>9958.000000</td>\n",
       "      <td>10.9</td>\n",
       "      <td>-30.600000</td>\n",
       "      <td>13</td>\n",
       "      <td>1</td>\n",
       "      <td>0</td>\n",
       "      <td>0</td>\n",
       "      <td>0</td>\n",
       "      <td>6.908755</td>\n",
       "      <td>9.206132</td>\n",
       "    </tr>\n",
       "    <tr>\n",
       "      <th>2</th>\n",
       "      <td>1122</td>\n",
       "      <td>9</td>\n",
       "      <td>6125.899902</td>\n",
       "      <td>23.5</td>\n",
       "      <td>-16.299999</td>\n",
       "      <td>14</td>\n",
       "      <td>1</td>\n",
       "      <td>0</td>\n",
       "      <td>0</td>\n",
       "      <td>0</td>\n",
       "      <td>7.022868</td>\n",
       "      <td>8.720281</td>\n",
       "    </tr>\n",
       "    <tr>\n",
       "      <th>3</th>\n",
       "      <td>578</td>\n",
       "      <td>-9</td>\n",
       "      <td>16246.000000</td>\n",
       "      <td>5.9</td>\n",
       "      <td>-25.700001</td>\n",
       "      <td>-21</td>\n",
       "      <td>1</td>\n",
       "      <td>0</td>\n",
       "      <td>0</td>\n",
       "      <td>0</td>\n",
       "      <td>6.359574</td>\n",
       "      <td>9.695602</td>\n",
       "    </tr>\n",
       "    <tr>\n",
       "      <th>4</th>\n",
       "      <td>1368</td>\n",
       "      <td>7</td>\n",
       "      <td>21783.199219</td>\n",
       "      <td>13.8</td>\n",
       "      <td>-3.000000</td>\n",
       "      <td>56</td>\n",
       "      <td>1</td>\n",
       "      <td>0</td>\n",
       "      <td>0</td>\n",
       "      <td>0</td>\n",
       "      <td>7.221105</td>\n",
       "      <td>9.988894</td>\n",
       "    </tr>\n",
       "  </tbody>\n",
       "</table>\n",
       "</div>"
      ],
      "text/plain": [
       "   salary  pcsalary         sales   roe       pcroe  ros  indus  finance  \\\n",
       "0    1095        20  27595.000000  14.1  106.400002  191      1        0   \n",
       "1    1001        32   9958.000000  10.9  -30.600000   13      1        0   \n",
       "2    1122         9   6125.899902  23.5  -16.299999   14      1        0   \n",
       "3     578        -9  16246.000000   5.9  -25.700001  -21      1        0   \n",
       "4    1368         7  21783.199219  13.8   -3.000000   56      1        0   \n",
       "\n",
       "   consprod  utility   lsalary     lsales  \n",
       "0         0        0  6.998509  10.225389  \n",
       "1         0        0  6.908755   9.206132  \n",
       "2         0        0  7.022868   8.720281  \n",
       "3         0        0  6.359574   9.695602  \n",
       "4         0        0  7.221105   9.988894  "
      ]
     },
     "execution_count": 2,
     "metadata": {},
     "output_type": "execute_result"
    }
   ],
   "source": [
    "ceosal1 = woo.dataWoo('ceosal1')  # 从 wooldridge 库加载 \"ceosal1\" 数据集\n",
    "ceosal1.head(5)   # 打印数据集的前五行，了解数据的概况"
   ]
  },
  {
   "cell_type": "markdown",
   "id": "41caf10500d0f0f3",
   "metadata": {},
   "source": [
    "### 课堂练习1： 基于 矩阵 计算回归系数 $\\beta_0$ 和 $\\beta_1$ 及其对应的方差\n",
    "- 模型：$salary = \\beta_0+\\beta_1 roe + \\epsilon$\n",
    "    - $\\hat{\\beta} = (X^TX)^{-1}X^Ty$\n",
    "- 结果：$\\hat{salary} = 963.1913 + 18.5012 \\cdot roe$\n",
    "- 系数：Cons 为 212.2175； Roe 为 11.0699"
   ]
  },
  {
   "cell_type": "code",
   "execution_count": 3,
   "id": "cd59ad906d2c4256",
   "metadata": {
    "ExecuteTime": {
     "end_time": "2025-03-17T03:33:23.400342Z",
     "start_time": "2025-03-17T03:33:23.392182Z"
    }
   },
   "outputs": [],
   "source": [
    "x = ceosal1['roe']  # 提取自变量 'roe'\n",
    "y = ceosal1['salary']  # 提取因变量 'salary'\n",
    "cons = np.ones(x.shape)  # 创建一个与 x 同大小的常数项向量，用于添加截距项\n",
    "\n",
    "X = np.c_[cons, x]  # 将常数项和 'roe' 组合成一个矩阵 X，其中第一列是常数项，第二列是 'roe'\n",
    "beta = np.linalg.inv(X.T @ X) @ X.T @ y  # 计算回归系数\n",
    "u = y - X @ beta"
   ]
  },
  {
   "cell_type": "code",
   "execution_count": 4,
   "id": "8e1098e3463d48b5",
   "metadata": {
    "ExecuteTime": {
     "end_time": "2025-03-17T03:33:24.217213Z",
     "start_time": "2025-03-17T03:33:24.207417Z"
    }
   },
   "outputs": [
    {
     "name": "stdout",
     "output_type": "stream",
     "text": [
      "cons: 963.1913  213.2403\n",
      "educ: 18.5012  11.1233\n"
     ]
    }
   ],
   "source": [
    "# 同方差\n",
    "sigma_squared = u.T @ u / (len(y) - X.shape[1])\n",
    "temp1 = np.linalg.inv(X.T @ X) @ X.T\n",
    "beta_var = sigma_squared * temp1 @ temp1.T\n",
    "beta_var_diag = np.diag(beta_var) # 取主对角线方差\n",
    "beta_std = np.sqrt(beta_var_diag) # 计算标准误差，并输出\n",
    "\n",
    "print(f'cons: {beta[0]:.4f}  {beta_std[0]:.4f}')\n",
    "print(f'educ: {beta[1]:.4f}  {beta_std[1]:.4f}')"
   ]
  },
  {
   "cell_type": "code",
   "execution_count": 5,
   "id": "c6cbe7ae769a2c3b",
   "metadata": {
    "ExecuteTime": {
     "end_time": "2025-03-17T03:33:27.364601Z",
     "start_time": "2025-03-17T03:33:25.618975Z"
    }
   },
   "outputs": [
    {
     "name": "stdout",
     "output_type": "stream",
     "text": [
      "                            OLS Regression Results                            \n",
      "==============================================================================\n",
      "Dep. Variable:                 salary   R-squared:                       0.013\n",
      "Model:                            OLS   Adj. R-squared:                  0.008\n",
      "Method:                 Least Squares   F-statistic:                     2.767\n",
      "Date:                Sat, 29 Mar 2025   Prob (F-statistic):             0.0978\n",
      "Time:                        09:26:54   Log-Likelihood:                -1804.5\n",
      "No. Observations:                 209   AIC:                             3613.\n",
      "Df Residuals:                     207   BIC:                             3620.\n",
      "Df Model:                           1                                         \n",
      "Covariance Type:            nonrobust                                         \n",
      "==============================================================================\n",
      "                 coef    std err          t      P>|t|      [0.025      0.975]\n",
      "------------------------------------------------------------------------------\n",
      "const        963.1913    213.240      4.517      0.000     542.790    1383.592\n",
      "x1            18.5012     11.123      1.663      0.098      -3.428      40.431\n",
      "==============================================================================\n",
      "Omnibus:                      311.096   Durbin-Watson:                   2.105\n",
      "Prob(Omnibus):                  0.000   Jarque-Bera (JB):            31120.902\n",
      "Skew:                           6.915   Prob(JB):                         0.00\n",
      "Kurtosis:                      61.158   Cond. No.                         43.3\n",
      "==============================================================================\n",
      "\n",
      "Notes:\n",
      "[1] Standard Errors assume that the covariance matrix of the errors is correctly specified.\n"
     ]
    }
   ],
   "source": [
    "import statsmodels.api as sm\n",
    "\n",
    "x = ceosal1['roe']  # 提取自变量 'roe'\n",
    "y = ceosal1['salary']  # 提取因变量 'salary'\n",
    "cons = np.ones(x.shape)  # 创建一个与 x 同大小的常数项向量，用于添加截距项\n",
    "X = np.c_[cons, x]  # 将常数项和 'roe' 组合成一个矩阵 X，其中第一列是常数项，第二列是 'roe'\n",
    "\n",
    "model = sm.OLS(y, X) # 创建 OLS 模型\n",
    "robust_results = model.fit()\n",
    "print(robust_results.summary())"
   ]
  },
  {
   "cell_type": "code",
   "execution_count": 6,
   "id": "a5ebcd847786defc",
   "metadata": {
    "ExecuteTime": {
     "end_time": "2025-03-17T03:33:27.400313Z",
     "start_time": "2025-03-17T03:33:27.391988Z"
    }
   },
   "outputs": [
    {
     "name": "stdout",
     "output_type": "stream",
     "text": [
      "cons: 963.1913  120.5254\n",
      "educ: 18.5012  6.7967\n"
     ]
    }
   ],
   "source": [
    "# 稳健标准误（残差项不相关，但存在异方差）\n",
    "u_squared = u ** 2\n",
    "sigma_matrix = np.diag(u_squared)\n",
    "\n",
    "temp1 = np.linalg.inv(X.T @ X) @ X.T\n",
    "beta_var = temp1 @ sigma_matrix @ temp1.T\n",
    "beta_var_diag = np.diag(beta_var) # 取主对角线方差\n",
    "beta_std = np.sqrt(beta_var_diag) # 计算标准误差，并输出\n",
    "\n",
    "print(f'cons: {beta[0]:.4f}  {beta_std[0]:.4f}')\n",
    "print(f'educ: {beta[1]:.4f}  {beta_std[1]:.4f}')"
   ]
  },
  {
   "cell_type": "code",
   "execution_count": 7,
   "id": "7f735ae71ba6bf03",
   "metadata": {
    "ExecuteTime": {
     "end_time": "2025-03-17T03:33:28.025322Z",
     "start_time": "2025-03-17T03:33:27.994705Z"
    }
   },
   "outputs": [
    {
     "name": "stdout",
     "output_type": "stream",
     "text": [
      "                            OLS Regression Results                            \n",
      "==============================================================================\n",
      "Dep. Variable:                 salary   R-squared:                       0.013\n",
      "Model:                            OLS   Adj. R-squared:                  0.008\n",
      "Method:                 Least Squares   F-statistic:                     7.410\n",
      "Date:                Sat, 29 Mar 2025   Prob (F-statistic):            0.00704\n",
      "Time:                        09:26:54   Log-Likelihood:                -1804.5\n",
      "No. Observations:                 209   AIC:                             3613.\n",
      "Df Residuals:                     207   BIC:                             3620.\n",
      "Df Model:                           1                                         \n",
      "Covariance Type:                  HC0                                         \n",
      "==============================================================================\n",
      "                 coef    std err          z      P>|z|      [0.025      0.975]\n",
      "------------------------------------------------------------------------------\n",
      "const        963.1913    120.525      7.992      0.000     726.966    1199.417\n",
      "x1            18.5012      6.797      2.722      0.006       5.180      31.822\n",
      "==============================================================================\n",
      "Omnibus:                      311.096   Durbin-Watson:                   2.105\n",
      "Prob(Omnibus):                  0.000   Jarque-Bera (JB):            31120.902\n",
      "Skew:                           6.915   Prob(JB):                         0.00\n",
      "Kurtosis:                      61.158   Cond. No.                         43.3\n",
      "==============================================================================\n",
      "\n",
      "Notes:\n",
      "[1] Standard Errors are heteroscedasticity robust (HC0)\n"
     ]
    }
   ],
   "source": [
    "import statsmodels.api as sm\n",
    "\n",
    "x = ceosal1['roe']  # 提取自变量 'roe'\n",
    "y = ceosal1['salary']  # 提取因变量 'salary'\n",
    "cons = np.ones(x.shape)  # 创建一个与 x 同大小的常数项向量，用于添加截距项\n",
    "X = np.c_[cons, x]  # 将常数项和 'roe' 组合成一个矩阵 X，其中第一列是常数项，第二列是 'roe'\n",
    "\n",
    "model = sm.OLS(y, X) # 创建 OLS 模型\n",
    "robust_results = model.fit(cov_type='HC0')  # 使用 White 异方差稳健标准误差\n",
    "print(robust_results.summary())  # 输出模型的拟合结果，包含稳健标准误差和其他统计信息"
   ]
  },
  {
   "cell_type": "code",
   "execution_count": 8,
   "id": "2fcd7485f03b9db1",
   "metadata": {
    "ExecuteTime": {
     "end_time": "2025-03-17T03:35:10.317036Z",
     "start_time": "2025-03-17T03:35:10.307077Z"
    }
   },
   "outputs": [
    {
     "name": "stdout",
     "output_type": "stream",
     "text": [
      "cons: 963.1913  11.5204\n",
      "educ: 18.5012  6.0881\n"
     ]
    }
   ],
   "source": [
    "# 聚类稳健标准误（残差项不相关，但存在异方差）\n",
    "\n",
    "N = X.shape[0]  # 总样本数\n",
    "K = X.shape[1]  # 变量个数\n",
    "cluster_ids = ceosal1['indus']  # 我们按 'industry' 进行聚类\n",
    "cluster_labels = np.unique(cluster_ids)  # 获取唯一 cluster\n",
    "\n",
    "G = len(cluster_labels)  # 计算 cluster 数量\n",
    "S = np.zeros((K, K))  # 形状为 (K, K) 的零矩阵\n",
    "\n",
    "# 遍历每个 cluster，计算贡献\n",
    "for g in cluster_labels:\n",
    "    idx = (cluster_ids == g)  # 选出属于 cluster g 的观测\n",
    "    X_g = X[idx, :]  # 选取该 cluster 的 X 矩阵\n",
    "    u_g = u[idx]  # 选取该 cluster 的残差\n",
    "    S += X_g.T @ np.outer(u_g, u_g) @ X_g  # 计算 X_g' * u_g * u_g' * X_g\n",
    "\n",
    "# 计算 (X'X)^(-1)\n",
    "inv_XTX = np.linalg.inv(X.T @ X)\n",
    "\n",
    "# 计算聚类稳健标准误的方差估计\n",
    "# dof_correction = (G / (G - 1)) * ((N - 1) / (N - K))  # 附加自由度修正\n",
    "# beta_var_cluster = inv_XTX @ S @ inv_XTX * dof_correction # 进行自由度修正\n",
    "dof_correction = (G / (G - 1)) * ((N - 1) / (N - K))  # 附加自由度修正\n",
    "beta_var_cluster = inv_XTX @ S @ inv_XTX * dof_correction # 进行自由度修正\n",
    "beta_var_diag = np.diag(beta_var_cluster)  # 取主对角线方差\n",
    "beta_std = np.sqrt(beta_var_diag)  # 计算标准误差\n",
    "\n",
    "print(f'cons: {beta[0]:.4f}  {beta_std[0]:.4f}')\n",
    "print(f'educ: {beta[1]:.4f}  {beta_std[1]:.4f}')"
   ]
  },
  {
   "cell_type": "code",
   "execution_count": 9,
   "id": "371d636dae0e1731",
   "metadata": {
    "ExecuteTime": {
     "end_time": "2025-03-13T15:20:21.382370Z",
     "start_time": "2025-03-13T15:20:21.372179Z"
    }
   },
   "outputs": [
    {
     "name": "stdout",
     "output_type": "stream",
     "text": [
      "                            OLS Regression Results                            \n",
      "==============================================================================\n",
      "Dep. Variable:                 salary   R-squared:                       0.013\n",
      "Model:                            OLS   Adj. R-squared:                  0.008\n",
      "Method:                 Least Squares   F-statistic:                     9.235\n",
      "Date:                Sat, 29 Mar 2025   Prob (F-statistic):              0.202\n",
      "Time:                        09:26:54   Log-Likelihood:                -1804.5\n",
      "No. Observations:                 209   AIC:                             3613.\n",
      "Df Residuals:                     207   BIC:                             3620.\n",
      "Df Model:                           1                                         \n",
      "Covariance Type:              cluster                                         \n",
      "==============================================================================\n",
      "                 coef    std err          z      P>|z|      [0.025      0.975]\n",
      "------------------------------------------------------------------------------\n",
      "const        963.1913     11.520     83.608      0.000     940.612     985.771\n",
      "roe           18.5012      6.088      3.039      0.002       6.569      30.434\n",
      "==============================================================================\n",
      "Omnibus:                      311.096   Durbin-Watson:                   2.105\n",
      "Prob(Omnibus):                  0.000   Jarque-Bera (JB):            31120.902\n",
      "Skew:                           6.915   Prob(JB):                         0.00\n",
      "Kurtosis:                      61.158   Cond. No.                         43.3\n",
      "==============================================================================\n",
      "\n",
      "Notes:\n",
      "[1] Standard Errors are robust to cluster correlation (cluster)\n"
     ]
    }
   ],
   "source": [
    "import statsmodels.api as sm\n",
    "\n",
    "x = ceosal1['roe']  # 提取自变量 'roe'\n",
    "y = ceosal1['salary']  # 提取因变量 'salary'\n",
    "X = sm.add_constant(x)  # 使用 sm.add_constant 自动添加常数项\n",
    "\n",
    "cluster_ids = ceosal1['indus']  # 我们按 'industry' 进行聚类\n",
    "\n",
    "# 运行 OLS 并使用聚类稳健标准误\n",
    "model = sm.OLS(y, X)\n",
    "clustered_results = model.fit(cov_type='cluster', cov_kwds={'groups': cluster_ids})\n",
    "\n",
    "# 输出结果\n",
    "print(clustered_results.summary())"
   ]
  },
  {
   "cell_type": "code",
   "execution_count": null,
   "id": "273ff291f39c005b",
   "metadata": {},
   "outputs": [],
   "source": []
  }
 ],
 "metadata": {
  "kernelspec": {
   "display_name": "myenv_econ",
   "language": "python",
   "name": "python3"
  },
  "language_info": {
   "codemirror_mode": {
    "name": "ipython",
    "version": 3
   },
   "file_extension": ".py",
   "mimetype": "text/x-python",
   "name": "python",
   "nbconvert_exporter": "python",
   "pygments_lexer": "ipython3",
   "version": "3.13.2"
  }
 },
 "nbformat": 4,
 "nbformat_minor": 5
}
