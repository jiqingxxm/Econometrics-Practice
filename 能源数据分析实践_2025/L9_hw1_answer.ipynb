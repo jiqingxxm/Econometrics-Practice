{
 "cells": [
  {
   "cell_type": "markdown",
   "id": "6293c9f67ee6146f",
   "metadata": {},
   "source": [
    "# 📌 课程作业：HW1（总分 100 分）\n",
    "\n",
    "## **提交说明**\n",
    "📩 **提交方式**：请将作业发送至邮箱 **jiqing@cup.edu.cn**\n",
    "\n",
    "📌 **邮件主题格式**：\n",
    "```ECO-HW1-姓名-学号```\n",
    "\n",
    "📂 **文件命名格式**：\n",
    "```ECO_HW1_姓名_学号.ipynb```\n",
    "\n",
    "📅 **截止提交日期**：\n",
    "👉 **2025 年 3 月 24 日（星期一上课前）**\n",
    "\n",
    "---\n",
    "\n",
    "## **求解模型**\n",
    "我们研究的模型如下：\n",
    "$\n",
    "\\ln(wage) = \\beta_0 + \\beta_1 \\cdot educ + \\beta_2 \\cdot exper + \\beta_3 \\cdot expersq + \\epsilon\n",
    "$\n",
    "\n",
    "- 其中，$educ$ 为 **内生变量**，其 **工具变量** 选择为：\n",
    "  - $constant$（常数项）\n",
    "  - $exper$（工作经验）\n",
    "  - $expersq$（经验的平方）\n",
    "  - $motheduc$（母亲受教育程度）\n",
    "  - $fatheduc$（父亲受教育程度）\n",
    "\n",
    "\n",
    "\n",
    "## **数据导入与预处理**\n",
    "本次作业使用 **Wooldridge 经济学数据集**，请确保已安装 `wooldridge` 库，并使用以下代码导入 **Mroz** 数据集：\n",
    "\n",
    "---"
   ]
  },
  {
   "cell_type": "code",
   "execution_count": null,
   "id": "1b85d1d9d9d2fe1d",
   "metadata": {
    "ExecuteTime": {
     "end_time": "2025-03-18T11:01:24.533063Z",
     "start_time": "2025-03-18T11:01:24.519492Z"
    },
    "collapsed": false
   },
   "outputs": [],
   "source": [
    "import wooldridge as woo\n",
    "mroz = woo.dataWoo('mroz') # 加载 Mroz 数据集\n",
    "mroz = mroz.dropna(subset=['lwage']) # 删除缺失工资数据的观测值\n",
    "# mroz.head() # 显示前几行数据"
   ]
  },
  {
   "cell_type": "markdown",
   "id": "ae155f49f86a6b39",
   "metadata": {},
   "source": [
    "·### **任务一：计算两阶段最小二乘的系数方差和 T 值（共 50 分）**\n",
    "\n",
    "---\n",
    "\n",
    "### **两阶段最小二乘法（2SLS）**\n",
    "**直接估计公式**：\n",
    "$\n",
    "\\beta = (X'Z(Z'Z)^{-1}Z'X)^{-1} X'Z(Z'Z)^{-1}Z'y\n",
    "$\n",
    "\n",
    "**估计结果**：\n",
    "$\n",
    "\\hat{\\ln(wage)} = 0.0481 + 0.0614 \\cdot educ + 0.0442 \\cdot exper - 0.0009 \\cdot expersq\n",
    "$\n",
    "\n",
    "---\n",
    "\n",
    "#### **任务 1.1：计算系数估计值**\n",
    "- 估计 **$\\beta$ 系数**，即使用 2SLS 方法求解 **回归系数估计值**（10 分）\n",
    "\n",
    "#### **任务 1.2：假设误差项服从独立同方差**\n",
    "- 计算 **系数的方差** 和 **T 值**（10 分）\n",
    "\n",
    "#### **任务 1.3：假设误差项服从独立异方差**\n",
    "- 计算 **系数的方差** 和 **T 值**（10 分）\n",
    "\n",
    "#### **任务 1.4：假设误差项存在组内相关性（聚类到 city-level）**\n",
    "- 计算 **系数的方差（组内异方差聚类）** 和 **T 值**（10 分）\n",
    "\n",
    "#### **任务 1.5：使用 `statsmodels.api` 对上述三种情况进行检验**\n",
    "- 采用 `import statsmodels.api as sm` 进行检验，并比较结果（10 分）\n",
    "\n",
    "---"
   ]
  },
  {
   "cell_type": "markdown",
   "id": "d3895e2a8aa162f5",
   "metadata": {},
   "source": [
    "两阶段直接求解方法：$ \\beta = (X'Z(Z'Z)^{-1}Z'X)^{-1} X'Z(Z'Z)^{-1}Z'y$\n",
    "\n",
    "估计值方差：$Var[\\beta] = (X'Z(Z'Z)^{-1}Z'X)^{-1} X'Z(Z'Z)^{-1}Z' \\Omega Z(Z'Z)^{-1}Z'X(X'Z(Z'Z)^{-1}Z'X)^{-1}$, 其中 $\\Omega$ 为同方差"
   ]
  },
  {
   "cell_type": "code",
   "execution_count": 2,
   "id": "d114dfd091d88de9",
   "metadata": {
    "ExecuteTime": {
     "end_time": "2025-03-18T11:01:47.889093Z",
     "start_time": "2025-03-18T11:01:47.881065Z"
    }
   },
   "outputs": [],
   "source": [
    "import wooldridge as woo\n",
    "import numpy as np\n",
    "\n",
    "mroz = woo.dataWoo('mroz') # 加载 Mroz 数据集\n",
    "mroz = mroz.dropna(subset=['lwage']) # 删除缺失工资数据的观测值\n",
    "# mroz.head() # 显示前几行数据"
   ]
  },
  {
   "cell_type": "code",
   "execution_count": 3,
   "id": "15d9843085326560",
   "metadata": {
    "ExecuteTime": {
     "end_time": "2025-03-18T11:01:48.446184Z",
     "start_time": "2025-03-18T11:01:48.442934Z"
    }
   },
   "outputs": [],
   "source": [
    "## 获取目标变量\n",
    "ln_wage = np.log(mroz['wage'])\n",
    "cons = np.ones_like(ln_wage)\n",
    "educ = mroz['educ']\n",
    "exper = mroz['exper']\n",
    "expersq = mroz['expersq']\n",
    "motheduc = mroz['motheduc']\n",
    "fatheduc = mroz['fatheduc']\n",
    "\n",
    "X = np.c_[cons, educ, exper, expersq]\n",
    "Z = np.c_[cons, exper, expersq, motheduc, fatheduc]\n",
    "y = ln_wage"
   ]
  },
  {
   "cell_type": "markdown",
   "id": "b7744130127249d2",
   "metadata": {},
   "source": [
    "2sls estimator（普通标准误） 计算公式：\n",
    "   - 标准式（$\\Omega$ 为方差）：\n",
    "$$Var[\\beta] = (X'Z(Z'Z)^{-1}Z'X)^{-1} X'Z(Z'Z)^{-1}Z' \\Omega Z(Z'Z)^{-1}Z'X(X'Z(Z'Z)^{-1}Z'X)^{-1}$$\n",
    "\n",
    "   - 展开式：\n",
    "$$Var[\\beta] = \\sigma^2 (X'Z(Z'Z)^{-1}Z'X)^{-1}$$"
   ]
  },
  {
   "cell_type": "code",
   "execution_count": 4,
   "id": "2b43376618111154",
   "metadata": {
    "ExecuteTime": {
     "end_time": "2025-03-18T11:22:20.053468Z",
     "start_time": "2025-03-18T11:22:20.045916Z"
    }
   },
   "outputs": [
    {
     "name": "stdout",
     "output_type": "stream",
     "text": [
      "cons: 0.0481  0.3985\n",
      "educ: 0.0614  0.0313\n",
      "exper: 0.0442  0.0134\n",
      "expersq: -0.0009  0.0004\n"
     ]
    }
   ],
   "source": [
    "# 同方差\n",
    "temp1 = np.linalg.inv(Z.T @ Z)\n",
    "beta = np.linalg.inv(X.T @ Z @ temp1 @ Z.T @ X) @ X.T @ Z @ temp1 @ Z.T @ y\n",
    "u = y - X @ beta\n",
    "sigma_squared = u.T @ u / (len(y))\n",
    "# sigma_squared = u.T @ u / (len(y) - X.shape[1])\n",
    "temp2 = np.linalg.inv(X.T @ Z @ temp1 @ Z.T @ X)\n",
    "beta_var = sigma_squared * temp2\n",
    "beta_var_diag = np.diag(beta_var)\n",
    "\n",
    "# 计算标准误差，并输出\n",
    "beta_std = np.sqrt(beta_var_diag)\n",
    "print(f'cons: {beta[0]:.4f}  {beta_std[0]:.4f}')\n",
    "print(f'educ: {beta[1]:.4f}  {beta_std[1]:.4f}')\n",
    "print(f'exper: {beta[2]:.4f}  {beta_std[2]:.4f}')\n",
    "print(f'expersq: {beta[3]:.4f}  {beta_std[3]:.4f}')"
   ]
  },
  {
   "cell_type": "code",
   "execution_count": 5,
   "id": "8b1a6c80293b76d2",
   "metadata": {
    "ExecuteTime": {
     "end_time": "2025-03-18T11:22:21.955015Z",
     "start_time": "2025-03-18T11:22:21.939610Z"
    }
   },
   "outputs": [
    {
     "name": "stdout",
     "output_type": "stream",
     "text": [
      "                          IV-2SLS Estimation Summary                          \n",
      "==============================================================================\n",
      "Dep. Variable:                   wage   R-squared:                      0.1357\n",
      "Estimator:                    IV-2SLS   Adj. R-squared:                 0.1296\n",
      "No. Observations:                 428   F-statistic:                    24.653\n",
      "Date:                Wed, Mar 19 2025   P-value (F-stat)                0.0000\n",
      "Time:                        20:16:05   Distribution:                  chi2(3)\n",
      "Cov. Estimator:         homoskedastic                                         \n",
      "                                                                              \n",
      "                             Parameter Estimates                              \n",
      "==============================================================================\n",
      "            Parameter  Std. Err.     T-stat    P-value    Lower CI    Upper CI\n",
      "------------------------------------------------------------------------------\n",
      "exog.0         0.0481     0.3985     0.1207     0.9039     -0.7329      0.8291\n",
      "exog.1         0.0442     0.0134     3.3038     0.0010      0.0180      0.0704\n",
      "exog.2        -0.0009     0.0004    -2.2485     0.0245     -0.0017     -0.0001\n",
      "educ           0.0614     0.0313     1.9622     0.0497   7.043e-05      0.1227\n",
      "==============================================================================\n",
      "\n",
      "Endogenous: educ\n",
      "Instruments: instruments.0, instruments.1\n",
      "Unadjusted Covariance (Homoskedastic)\n",
      "Debiased: False\n"
     ]
    }
   ],
   "source": [
    "from linearmodels.iv import IV2SLS\n",
    "\n",
    "exog = np.c_[cons,exper,expersq]\n",
    "endog = mroz['educ']\n",
    "instruments = np.c_[mroz['motheduc'], mroz['fatheduc']]\n",
    "model = IV2SLS(ln_wage, exog, endog, instruments)\n",
    "results1 = model.fit(cov_type = \"homoskedastic\")\n",
    "print(results1.summary)"
   ]
  },
  {
   "cell_type": "markdown",
   "id": "fde7ee45f64629ed",
   "metadata": {},
   "source": [
    "2sls estimator（稳健标准误） 计算公式：\n",
    "   - 标准式（$\\Omega$ 为方差）：\n",
    "$$Var[\\beta] = (X'Z(Z'Z)^{-1}Z'X)^{-1} X'Z(Z'Z)^{-1}Z' \\Omega Z(Z'Z)^{-1}Z'X(X'Z(Z'Z)^{-1}Z'X)^{-1}$$\n",
    "\n",
    "   - 展开式：\n",
    "$$\n",
    "Var[\\hat{\\beta}] = (X^{\\prime}Z (Z^{\\prime}Z)^{-1} Z^{\\prime}X)^{-1}\n",
    "\\left[ X^{\\prime}Z (Z^{\\prime}Z)^{-1}\n",
    "\\left( \\sum_{i=1}^{N} Z_i^{\\prime} \\widehat{u}_i \\widehat{u}_i^{\\prime} Z_i \\right)\n",
    "(Z^{\\prime}Z)^{-1} Z^{\\prime}X \\right]\n",
    "(X^{\\prime}Z (Z^{\\prime}Z)^{-1} Z^{\\prime}X)^{-1}\n",
    "$$"
   ]
  },
  {
   "cell_type": "code",
   "execution_count": 6,
   "id": "28b98510b7c9ef50",
   "metadata": {
    "ExecuteTime": {
     "end_time": "2025-03-18T11:01:55.463277Z",
     "start_time": "2025-03-18T11:01:55.448051Z"
    }
   },
   "outputs": [
    {
     "name": "stdout",
     "output_type": "stream",
     "text": [
      "cons: 0.0481  0.4278\n",
      "educ: 0.0614  0.0332\n",
      "exper: 0.0442  0.0155\n",
      "expersq: -0.0009  0.0004\n"
     ]
    }
   ],
   "source": [
    "beta = np.linalg.inv(X.T @ Z @ temp1 @ Z.T @ X) @ X.T @ Z @ temp1 @ Z.T @ y\n",
    "u = y - X @ beta # 计算残差的平方\n",
    "sigma_matrix = np.diag(u ** 2)  # 构建对角权重矩阵\n",
    "\n",
    "temp1 = np.linalg.inv(Z.T @ Z)\n",
    "temp2 = np.linalg.inv(X.T @ Z @ temp1 @ Z.T @ X) @ X.T @ Z  @ temp1 @ Z.T\n",
    "beta_var = temp2 @ sigma_matrix @ temp2.T\n",
    "beta_var_diag = np.diag(beta_var)\n",
    "\n",
    "# 计算标准误差，并输出\n",
    "beta_std = np.sqrt(beta_var_diag)\n",
    "print(f'cons: {beta[0]:.4f}  {beta_std[0]:.4f}')\n",
    "print(f'educ: {beta[1]:.4f}  {beta_std[1]:.4f}')\n",
    "print(f'exper: {beta[2]:.4f}  {beta_std[2]:.4f}')\n",
    "print(f'expersq: {beta[3]:.4f}  {beta_std[3]:.4f}')"
   ]
  },
  {
   "cell_type": "code",
   "execution_count": 7,
   "id": "935c2ab1fd23bdb3",
   "metadata": {
    "ExecuteTime": {
     "end_time": "2025-03-18T11:44:40.324799Z",
     "start_time": "2025-03-18T11:44:40.309490Z"
    }
   },
   "outputs": [
    {
     "name": "stdout",
     "output_type": "stream",
     "text": [
      "                          IV-2SLS Estimation Summary                          \n",
      "==============================================================================\n",
      "Dep. Variable:                   wage   R-squared:                      0.1357\n",
      "Estimator:                    IV-2SLS   Adj. R-squared:                 0.1296\n",
      "No. Observations:                 428   F-statistic:                    18.611\n",
      "Date:                Wed, Mar 19 2025   P-value (F-stat)                0.0003\n",
      "Time:                        20:16:05   Distribution:                  chi2(3)\n",
      "Cov. Estimator:       heteroskedastic                                         \n",
      "                                                                              \n",
      "                             Parameter Estimates                              \n",
      "==============================================================================\n",
      "            Parameter  Std. Err.     T-stat    P-value    Lower CI    Upper CI\n",
      "------------------------------------------------------------------------------\n",
      "exog.0         0.0481     0.4278     0.1124     0.9105     -0.7903      0.8865\n",
      "exog.1         0.0442     0.0155     2.8546     0.0043      0.0138      0.0745\n",
      "exog.2        -0.0009     0.0004    -2.1001     0.0357     -0.0017  -5.997e-05\n",
      "educ           0.0614     0.0332     1.8503     0.0643     -0.0036      0.1264\n",
      "==============================================================================\n",
      "\n",
      "Endogenous: educ\n",
      "Instruments: instruments.0, instruments.1\n",
      "Robust Covariance (Heteroskedastic)\n",
      "Debiased: False\n"
     ]
    }
   ],
   "source": [
    "from linearmodels.iv import IV2SLS\n",
    "\n",
    "exog = np.c_[cons,exper,expersq]\n",
    "endog = mroz['educ']\n",
    "instruments = np.c_[mroz['motheduc'], mroz['fatheduc']]\n",
    "model = IV2SLS(ln_wage, exog, endog, instruments)\n",
    "results1 = model.fit(cov_type = \"heteroskedastic\")  # 使用稳健标准误\n",
    "\n",
    "print(results1.summary)"
   ]
  },
  {
   "cell_type": "markdown",
   "id": "9b488f64a28bd203",
   "metadata": {},
   "source": [
    "2sls estimator（聚类标准误） 计算公式：\n",
    "   - 标准式（$\\Omega$ 为方差）：\n",
    "$$Var[\\beta] = (X'Z(Z'Z)^{-1}Z'X)^{-1} X'Z(Z'Z)^{-1}Z' \\Omega Z(Z'Z)^{-1}Z'X(X'Z(Z'Z)^{-1}Z'X)^{-1}$$\n",
    "\n",
    "   - 聚类展开式：\n",
    "$$\n",
    "Var[\\hat{\\beta}] = (X^{\\prime}Z (Z^{\\prime}Z)^{-1} Z^{\\prime}X)^{-1}\n",
    "\\left[ X^{\\prime}Z (Z^{\\prime}Z)^{-1}\n",
    "\\left( \\sum_{g=1}^{G} Z_g^{\\prime} \\widehat{u}_g \\widehat{u}_g^{\\prime} Z_g \\right)\n",
    "(Z^{\\prime}Z)^{-1} Z^{\\prime}X \\right]\n",
    "(X^{\\prime}Z (Z^{\\prime}Z)^{-1} Z^{\\prime}X)^{-1}\n",
    "$$"
   ]
  },
  {
   "cell_type": "code",
   "execution_count": 8,
   "id": "67fb6ce15caebcf",
   "metadata": {
    "ExecuteTime": {
     "end_time": "2025-03-18T11:30:01.569821Z",
     "start_time": "2025-03-18T11:30:01.564072Z"
    }
   },
   "outputs": [
    {
     "name": "stdout",
     "output_type": "stream",
     "text": [
      "cons: 0.0481  0.1236\n",
      "educ: 0.0614  0.0126\n",
      "exper: 0.0442  0.0079\n",
      "expersq: -0.0009  0.0002\n"
     ]
    }
   ],
   "source": [
    "# 聚类稳健标准误（残差项不相关，但存在异方差）\n",
    "N = X.shape[0]  # 总样本数\n",
    "K = X.shape[1]  # 变量个数\n",
    "\n",
    "cluster_ids = mroz['city'] # 我们按 'city' 进行聚类\n",
    "cluster_labels = np.unique(cluster_ids)  # 获取唯一 cluster\n",
    "G = len(cluster_labels)  # 计算 cluster 数量\n",
    "S = np.zeros((Z.shape[1], Z.shape[1]))  # 形状为 (K, K) 的零矩阵\n",
    "\n",
    "# 遍历每个 cluster，计算贡献\n",
    "for g in cluster_labels:\n",
    "    idx = (cluster_ids == g)  # 选出属于 cluster g 的观测\n",
    "    X_g = X[idx, :]  # 选取该 cluster 的 X 矩阵\n",
    "    Z_g = Z[idx, :]  # 选取该 cluster 的 X 矩阵\n",
    "    u_g = u[idx].to_numpy().reshape(-1, 1)  # 其中 -1 表示自动计算行数，1 表示只有一列，即转换为列向量。\n",
    "    S += Z_g.T @ u_g @ u_g.T @ Z_g\n",
    "\n",
    "temp1 = np.linalg.inv(Z.T @ Z)\n",
    "temp2 = np.linalg.inv(X.T @ Z @ temp1 @ Z.T @ X) @ X.T @ Z  @ temp1\n",
    "\n",
    "# 计算聚类稳健标准误的方差估计\n",
    "# dof_correction = (G / (G - 1)) * ((N - 1) / (N - K))  # 附加自由度修正\n",
    "# beta_var_cluster = temp2 @ S @ temp2.T * dof_correction # 进行自由度修正\n",
    "beta_var_cluster = temp2 @ S @ temp2.T  # 不进行自由度修正\n",
    "beta_var_diag = np.diag(beta_var_cluster)  # 取主对角线方差\n",
    "beta_std = np.sqrt(beta_var_diag)  # 计算标准误差\n",
    "\n",
    "print(f'cons: {beta[0]:.4f}  {beta_std[0]:.4f}')\n",
    "print(f'educ: {beta[1]:.4f}  {beta_std[1]:.4f}')\n",
    "print(f'exper: {beta[2]:.4f}  {beta_std[2]:.4f}')\n",
    "print(f'expersq: {beta[3]:.4f}  {beta_std[3]:.4f}')\n"
   ]
  },
  {
   "cell_type": "code",
   "execution_count": 9,
   "id": "8609f6272b37ec8f",
   "metadata": {
    "ExecuteTime": {
     "end_time": "2025-03-18T11:30:02.889055Z",
     "start_time": "2025-03-18T11:30:02.879463Z"
    }
   },
   "outputs": [
    {
     "name": "stdout",
     "output_type": "stream",
     "text": [
      "                          IV-2SLS Estimation Summary                          \n",
      "==============================================================================\n",
      "Dep. Variable:                   wage   R-squared:                      0.1357\n",
      "Estimator:                    IV-2SLS   Adj. R-squared:                 0.1296\n",
      "No. Observations:                 428   F-statistic:                 9.313e+13\n",
      "Date:                Wed, Mar 19 2025   P-value (F-stat)                0.0000\n",
      "Time:                        20:16:05   Distribution:                  chi2(3)\n",
      "Cov. Estimator:             clustered                                         \n",
      "                                                                              \n",
      "                             Parameter Estimates                              \n",
      "==============================================================================\n",
      "            Parameter  Std. Err.     T-stat    P-value    Lower CI    Upper CI\n",
      "------------------------------------------------------------------------------\n",
      "exog.0         0.0481     0.1236     0.3890     0.6973     -0.1942      0.2904\n",
      "exog.1         0.0442     0.0079     5.6155     0.0000      0.0288      0.0596\n",
      "exog.2        -0.0009     0.0002    -5.4600     0.0000     -0.0012     -0.0006\n",
      "educ           0.0614     0.0126     4.8797     0.0000      0.0367      0.0861\n",
      "==============================================================================\n",
      "\n",
      "Endogenous: educ\n",
      "Instruments: instruments.0, instruments.1\n",
      "Clustered Covariance (One-Way)\n",
      "Debiased: False\n",
      "Num Clusters: 2\n"
     ]
    }
   ],
   "source": [
    "from linearmodels.iv import IV2SLS\n",
    "\n",
    "exog = np.c_[cons,exper,expersq]\n",
    "endog = mroz['educ']\n",
    "instruments = np.c_[mroz['motheduc'], mroz['fatheduc']]\n",
    "model = IV2SLS(ln_wage, exog, endog, instruments)\n",
    "iv_model = model.fit(cov_type='clustered', clusters=mroz['city'])\n",
    "print(iv_model.summary)"
   ]
  },
  {
   "cell_type": "markdown",
   "id": "5dd1d524dad9dfde",
   "metadata": {},
   "source": [
    "### **任务二：计算广义矩估计（GMM）的系数方差和 T 值（共 50 分）**\n",
    "\n",
    "### **广义矩估计（GMM）**\n",
    "**两步法估计公式**：$\\hat{\\beta}_{gmm} = (X' Z \\Phi Z' X)^{-1} X' Z \\Phi Z' y$\n",
    "- 其中，**最优权重矩阵** 分两步计算：\n",
    "  - 第一步：$\\hat{\\epsilon}^{(1)}$ 在 $\\Phi = (Z'Z)^{-1}$ 的假设下估计得到\n",
    "  - 第二步：$\\Phi = (Z'\\hat{\\epsilon}^{(1)} \\hat{\\epsilon}^{(1)'}Z)^{-1}$\n",
    "\n",
    "**估计结果**：\n",
    "$\\hat{\\ln(wage)} = 0.0477 + 0.0614 \\cdot educ + 0.0451 \\cdot exper - 0.0009 \\cdot expersq$\n",
    "\n",
    "---\n",
    "\n",
    "#### **任务 2.1：计算系数估计值**\n",
    "- 估计 **$\\beta$ 系数**，即使用 GMM 方法求解 **回归系数估计值**（10 分）\n",
    "\n",
    "#### **任务 2.2：假设误差项服从独立同方差**\n",
    "- 计算 **系数的方差** 和 **T 值**（10 分）\n",
    "\n",
    "#### **任务 2.3：假设误差项服从独立异方差**\n",
    "- 计算 **系数的方差** 和 **T 值**（10 分）\n",
    "\n",
    "#### **任务 2.4：假设误差项存在组内相关性（聚类到 city-level）**\n",
    "- 计算 **系数的方差（组内异方差聚类）** 和 **T 值**（10 分）\n",
    "\n",
    "#### **任务 2.5：使用 `statsmodels.api` 对上述三种情况进行检验**\n",
    "- 采用 `import statsmodels.api as sm` 进行检验，并比较结果（10 分）\n",
    "\n",
    "---"
   ]
  },
  {
   "cell_type": "markdown",
   "id": "d359beb9e2e4e491",
   "metadata": {},
   "source": [
    "GMM estimator（普通标准误） 计算公式：$\\hat{\\beta}^{(2)} = (X' Z \\Phi^{(2)} Z' X)^{-1} X' Z \\Phi^{(2)} Z' y$\n",
    "   - 标准式（$\\Omega$ 为方差）：\n",
    "$$Var[\\beta^{(2)}] = (X'Z\\Phi^{(2)}Z'X)^{-1} X'Z\\Phi^{(2)}Z' \\Omega Z\\Phi^{(2)}Z'X(X'Z\\Phi^{(2)}Z'X)^{-1}$$\n",
    "\n",
    "   - 展开式：\n",
    "$$Var[\\beta] = \\sigma^2 (X'Z\\Phi^{(2)}Z'X)^{-1} X'Z\\Phi^{(2)}Z' Z\\Phi^{(2)}Z'X(X'Z\\Phi^{(2)}Z'X)^{-1}$$"
   ]
  },
  {
   "cell_type": "code",
   "execution_count": 10,
   "id": "877b2d66a65c5e04",
   "metadata": {
    "ExecuteTime": {
     "end_time": "2025-03-18T11:44:52.631423Z",
     "start_time": "2025-03-18T11:44:52.623791Z"
    }
   },
   "outputs": [
    {
     "name": "stdout",
     "output_type": "stream",
     "text": [
      "cons: 0.0477  0.3985\n",
      "educ: 0.0611  0.0313\n",
      "exper: 0.0451  0.0135\n",
      "expersq: -0.0009  0.0004\n"
     ]
    }
   ],
   "source": [
    "X = np.c_[cons, mroz['educ'], exper, expersq]\n",
    "Z = np.c_[cons, mroz['exper'], mroz['expersq'], mroz['motheduc'], mroz['fatheduc']]\n",
    "Phi_1 = np.linalg.inv(Z.T @ Z)\n",
    "beta_2sls = np.linalg.inv(X.T @ Z @ Phi_1 @ Z.T @ X) @ X.T @ Z @ Phi_1 @ Z.T @ ln_wage\n",
    "\n",
    "u_1st = ln_wage - X @ beta_2sls\n",
    "u_1st = np.array(u_1st)\n",
    "u_1st_reshaped = u_1st[:, np.newaxis]  # 添加一个新的轴，使其成为 (428, 1)\n",
    "Z_new= Z*u_1st_reshaped\n",
    "Phi_2 = np.linalg.inv(Z_new.T @ Z_new / len(ln_wage) )\n",
    "beta_gmm = np.linalg.inv(X.T @ Z @ Phi_2 @ Z.T @ X) @ X.T @ Z @ Phi_2 @ Z.T @ ln_wage\n",
    "\n",
    "u = y - X @ beta_gmm\n",
    "sigma_squared = u.T @ u / (len(y))\n",
    "# sigma_squared = u.T @ u / (len(y) - X.shape[1])\n",
    "\n",
    "temp1 = np.linalg.inv(X.T @ Z @ Phi_2 @ Z.T @ X) @ X.T @ Z @ Phi_2 @ Z.T\n",
    "beta_var = sigma_squared * temp1 @ temp1.T\n",
    "beta_var_diag = np.diag(beta_var)\n",
    "\n",
    "# 计算标准误差，并输出\n",
    "beta_gmm_std = np.sqrt(beta_var_diag)\n",
    "print(f'cons: {beta_gmm[0]:.4f}  {beta_gmm_std[0]:.4f}')\n",
    "print(f'educ: {beta_gmm[1]:.4f}  {beta_gmm_std[1]:.4f}')\n",
    "print(f'exper: {beta_gmm[2]:.4f}  {beta_gmm_std[2]:.4f}')\n",
    "print(f'expersq: {beta_gmm[3]:.4f}  {beta_gmm_std[3]:.4f}')\n"
   ]
  },
  {
   "cell_type": "code",
   "execution_count": 11,
   "id": "bbe041e1e41e454b",
   "metadata": {
    "ExecuteTime": {
     "end_time": "2025-03-18T11:44:56.685353Z",
     "start_time": "2025-03-18T11:44:56.671382Z"
    }
   },
   "outputs": [
    {
     "name": "stdout",
     "output_type": "stream",
     "text": [
      "                          IV-GMM Estimation Summary                           \n",
      "==============================================================================\n",
      "Dep. Variable:                   wage   R-squared:                      0.1354\n",
      "Estimator:                     IV-GMM   Adj. R-squared:                 0.1293\n",
      "No. Observations:                 428   F-statistic:                    24.855\n",
      "Date:                Wed, Mar 19 2025   P-value (F-stat)                0.0000\n",
      "Time:                        20:16:05   Distribution:                  chi2(3)\n",
      "Cov. Estimator:         homoskedastic                                         \n",
      "                                                                              \n",
      "                             Parameter Estimates                              \n",
      "==============================================================================\n",
      "            Parameter  Std. Err.     T-stat    P-value    Lower CI    Upper CI\n",
      "------------------------------------------------------------------------------\n",
      "exog.0         0.0477     0.3985     0.1196     0.9048     -0.7334      0.8288\n",
      "exog.1         0.0451     0.0135     3.3523     0.0008      0.0187      0.0715\n",
      "exog.2        -0.0009     0.0004    -2.3089     0.0209     -0.0017     -0.0001\n",
      "educ           0.0611     0.0313     1.9505     0.0511     -0.0003      0.1224\n",
      "==============================================================================\n",
      "\n",
      "Endogenous: educ\n",
      "Instruments: instruments.0, instruments.1\n",
      "GMM Covariance\n",
      "Debiased: False\n",
      "Unadjusted (Homoskedastic)\n"
     ]
    }
   ],
   "source": [
    "from linearmodels.iv import IVGMM\n",
    "\n",
    "exog = np.c_[cons,exper,expersq]\n",
    "endog = mroz['educ']\n",
    "instruments = np.c_[mroz['motheduc'], mroz['fatheduc']]\n",
    "model = IVGMM(ln_wage, exog, endog, instruments)\n",
    "results1 = model.fit(cov_type = \"homoskedastic\")\n",
    "print(results1.summary)"
   ]
  },
  {
   "cell_type": "markdown",
   "id": "7674a9bb08cf83a",
   "metadata": {},
   "source": [
    "GMM estimator（稳健标准误） 计算公式：$\\hat{\\beta}^{(2)} = (X' Z \\Phi^{(2)} Z' X)^{-1} X' Z \\Phi^{(2)} Z' y$\n",
    "   - 标准式（$\\Omega$ 为方差）：\n",
    "$$Var[\\beta^{(2)}] = (X'Z\\Phi^{(2)}Z'X)^{-1} X'Z\\Phi^{(2)}Z' \\Omega Z\\Phi^{(2)}Z'X(X'Z\\Phi^{(2)}Z'X)^{-1}$$\n",
    "\n",
    "   - 展开式：\n",
    "$$Var[\\beta] = (X'Z\\Phi^{(2)}Z'X)^{-1} X'Z\\Phi^{(2)}\\left( \\sum_{i=1}^{N} Z_i^{\\prime} \\widehat{u}_i \\widehat{u}_i^{\\prime} Z_i \\right)\\Phi^{(2)}Z'X(X'Z\\Phi^{(2)}Z'X)^{-1}$$"
   ]
  },
  {
   "cell_type": "code",
   "execution_count": 12,
   "id": "81cdaf4815601245",
   "metadata": {
    "ExecuteTime": {
     "end_time": "2025-03-18T11:48:14.295050Z",
     "start_time": "2025-03-18T11:48:14.257473Z"
    }
   },
   "outputs": [
    {
     "name": "stdout",
     "output_type": "stream",
     "text": [
      "cons: 0.0477  0.4277\n",
      "educ: 0.0611  0.0332\n",
      "exper: 0.0451  0.0154\n",
      "expersq: -0.0009  0.0004\n"
     ]
    }
   ],
   "source": [
    "X = np.c_[cons, mroz['educ'], exper, expersq]\n",
    "Z = np.c_[cons, mroz['exper'], mroz['expersq'], mroz['motheduc'], mroz['fatheduc']]\n",
    "Phi_1 = np.linalg.inv(Z.T @ Z)\n",
    "beta_2sls = np.linalg.inv(X.T @ Z @ Phi_1 @ Z.T @ X) @ X.T @ Z @ Phi_1 @ Z.T @ ln_wage\n",
    "\n",
    "u_1st = ln_wage - X @ beta_2sls\n",
    "u_1st = np.array(u_1st)\n",
    "u_1st_reshaped = u_1st[:, np.newaxis]  # 添加一个新的轴，使其成为 (428, 1)\n",
    "Z_new= Z*u_1st_reshaped\n",
    "Phi_2 = np.linalg.inv(Z_new.T @ Z_new / len(ln_wage) )\n",
    "beta_gmm = np.linalg.inv(X.T @ Z @ Phi_2 @ Z.T @ X) @ X.T @ Z @ Phi_2 @ Z.T @ ln_wage\n",
    "\n",
    "u = y - X @ beta_gmm\n",
    "sigma_matrix = np.diag(u ** 2)  # 构建对角权重矩阵\n",
    "# sigma_squared = u.T @ u / (len(y) - X.shape[1])\n",
    "\n",
    "temp1 = np.linalg.inv(X.T @ Z @ Phi_2 @ Z.T @ X) @ X.T @ Z @ Phi_2 @ Z.T\n",
    "beta_var = temp1 @ sigma_matrix @ temp1.T\n",
    "beta_var_diag = np.diag(beta_var)\n",
    "\n",
    "# 计算标准误差，并输出\n",
    "beta_gmm_std = np.sqrt(beta_var_diag)\n",
    "print(f'cons: {beta_gmm[0]:.4f}  {beta_gmm_std[0]:.4f}')\n",
    "print(f'educ: {beta_gmm[1]:.4f}  {beta_gmm_std[1]:.4f}')\n",
    "print(f'exper: {beta_gmm[2]:.4f}  {beta_gmm_std[2]:.4f}')\n",
    "print(f'expersq: {beta_gmm[3]:.4f}  {beta_gmm_std[3]:.4f}')"
   ]
  },
  {
   "cell_type": "code",
   "execution_count": 13,
   "id": "f08555e0e57a4f65",
   "metadata": {
    "ExecuteTime": {
     "end_time": "2025-03-18T11:48:42.276781Z",
     "start_time": "2025-03-18T11:48:42.259996Z"
    }
   },
   "outputs": [
    {
     "name": "stdout",
     "output_type": "stream",
     "text": [
      "                          IV-GMM Estimation Summary                           \n",
      "==============================================================================\n",
      "Dep. Variable:                   wage   R-squared:                      0.1354\n",
      "Estimator:                     IV-GMM   Adj. R-squared:                 0.1293\n",
      "No. Observations:                 428   F-statistic:                    18.655\n",
      "Date:                Wed, Mar 19 2025   P-value (F-stat)                0.0003\n",
      "Time:                        20:16:05   Distribution:                  chi2(3)\n",
      "Cov. Estimator:       heteroskedastic                                         \n",
      "                                                                              \n",
      "                             Parameter Estimates                              \n",
      "==============================================================================\n",
      "            Parameter  Std. Err.     T-stat    P-value    Lower CI    Upper CI\n",
      "------------------------------------------------------------------------------\n",
      "exog.0         0.0477     0.4277     0.1114     0.9113     -0.7907      0.8860\n",
      "exog.1         0.0451     0.0154     2.9269     0.0034      0.0149      0.0754\n",
      "exog.2        -0.0009     0.0004    -2.1843     0.0289     -0.0018  -9.564e-05\n",
      "educ           0.0611     0.0332     1.8406     0.0657     -0.0040      0.1261\n",
      "==============================================================================\n",
      "\n",
      "Endogenous: educ\n",
      "Instruments: instruments.0, instruments.1\n",
      "GMM Covariance\n",
      "Debiased: False\n",
      "Robust (Heteroskedastic)\n"
     ]
    }
   ],
   "source": [
    "from linearmodels.iv import IVGMM\n",
    "\n",
    "exog = np.c_[cons,exper,expersq]\n",
    "endog = mroz['educ']\n",
    "instruments = np.c_[mroz['motheduc'], mroz['fatheduc']]\n",
    "model = IVGMM(ln_wage, exog, endog, instruments)\n",
    "results1 = model.fit(cov_type = \"heteroskedastic\")\n",
    "print(results1.summary)"
   ]
  },
  {
   "cell_type": "markdown",
   "id": "68751a298ca586aa",
   "metadata": {},
   "source": [
    "GMM estimator（稳健标准误） 计算公式：$\\hat{\\beta}^{(2)} = (X' Z \\Phi^{(2)} Z' X)^{-1} X' Z \\Phi^{(2)} Z' y$\n",
    "   - 标准式（$\\Omega$ 为方差）：\n",
    "$$Var[\\beta^{(2)}] = (X'Z\\Phi^{(2)}Z'X)^{-1} X'Z\\Phi^{(2)}Z' \\Omega Z\\Phi^{(2)}Z'X(X'Z\\Phi^{(2)}Z'X)^{-1}$$\n",
    "\n",
    "   - 展开式：\n",
    "$$Var[\\beta] = (X'Z\\Phi^{(2)}Z'X)^{-1} X'Z\\Phi^{(2)}\\left( \\sum_{i=g}^{G} Z_g^{\\prime} \\widehat{u}_g \\widehat{u}_g^{\\prime} Z_g \\right)\\Phi^{(2)}Z'X(X'Z\\Phi^{(2)}Z'X)^{-1}$$"
   ]
  },
  {
   "cell_type": "code",
   "execution_count": 14,
   "id": "2b9223661222c82d",
   "metadata": {
    "ExecuteTime": {
     "end_time": "2025-03-18T11:52:06.127230Z",
     "start_time": "2025-03-18T11:52:06.115665Z"
    }
   },
   "outputs": [
    {
     "name": "stdout",
     "output_type": "stream",
     "text": [
      "cons: 0.0481  0.1217\n",
      "educ: 0.0614  0.0131\n",
      "exper: 0.0442  0.0095\n",
      "expersq: -0.0009  0.0002\n"
     ]
    }
   ],
   "source": [
    "X = np.c_[cons, mroz['educ'], exper, expersq]\n",
    "Z = np.c_[cons, mroz['exper'], mroz['expersq'], mroz['motheduc'], mroz['fatheduc']]\n",
    "Phi_1 = np.linalg.inv(Z.T @ Z)\n",
    "beta_2sls = np.linalg.inv(X.T @ Z @ Phi_1 @ Z.T @ X) @ X.T @ Z @ Phi_1 @ Z.T @ ln_wage\n",
    "\n",
    "u_1st = ln_wage - X @ beta_2sls\n",
    "u_1st = np.array(u_1st)\n",
    "u_1st_reshaped = u_1st[:, np.newaxis]  # 添加一个新的轴，使其成为 (428, 1)\n",
    "Z_new= Z*u_1st_reshaped\n",
    "Phi_2 = np.linalg.inv(Z_new.T @ Z_new / len(ln_wage) )\n",
    "beta_gmm = np.linalg.inv(X.T @ Z @ Phi_2 @ Z.T @ X) @ X.T @ Z @ Phi_2 @ Z.T @ ln_wage\n",
    "\n",
    "u = y - X @ beta_gmm\n",
    "\n",
    "\n",
    "# 聚类稳健标准误（残差项不相关，但存在异方差）\n",
    "N = X.shape[0]  # 总样本数\n",
    "K = X.shape[1]  # 变量个数\n",
    "\n",
    "cluster_ids = mroz['city'] # 我们按 'city' 进行聚类\n",
    "cluster_labels = np.unique(cluster_ids)  # 获取唯一 cluster\n",
    "G = len(cluster_labels)  # 计算 cluster 数量\n",
    "S = np.zeros((Z.shape[1], Z.shape[1]))  # 形状为 (K, K) 的零矩阵\n",
    "\n",
    "# 遍历每个 cluster，计算贡献\n",
    "for g in cluster_labels:\n",
    "    idx = (cluster_ids == g)  # 选出属于 cluster g 的观测\n",
    "    X_g = X[idx, :]  # 选取该 cluster 的 X 矩阵\n",
    "    Z_g = Z[idx, :]  # 选取该 cluster 的 X 矩阵\n",
    "    u_g = u[idx].to_numpy().reshape(-1, 1)  # 其中 -1 表示自动计算行数，1 表示只有一列，即转换为列向量。\n",
    "    S += Z_g.T @ u_g @ u_g.T @ Z_g\n",
    "\n",
    "temp1 = Phi_2\n",
    "temp2 = np.linalg.inv(X.T @ Z @ temp1 @ Z.T @ X) @ X.T @ Z  @ temp1\n",
    "\n",
    "# 计算聚类稳健标准误的方差估计\n",
    "# dof_correction = (G / (G - 1)) * ((N - 1) / (N - K))  # 附加自由度修正\n",
    "# beta_var_cluster = temp2 @ S @ temp2.T * dof_correction # 进行自由度修正\n",
    "beta_var_cluster = temp2 @ S @ temp2.T  # 不进行自由度修正\n",
    "beta_var_diag = np.diag(beta_var_cluster)  # 取主对角线方差\n",
    "beta_std = np.sqrt(beta_var_diag)  # 计算标准误差\n",
    "\n",
    "print(f'cons: {beta[0]:.4f}  {beta_std[0]:.4f}')\n",
    "print(f'educ: {beta[1]:.4f}  {beta_std[1]:.4f}')\n",
    "print(f'exper: {beta[2]:.4f}  {beta_std[2]:.4f}')\n",
    "print(f'expersq: {beta[3]:.4f}  {beta_std[3]:.4f}')"
   ]
  },
  {
   "cell_type": "code",
   "execution_count": 15,
   "id": "3cde57c797c6c38e",
   "metadata": {
    "ExecuteTime": {
     "end_time": "2025-03-18T11:52:48.751290Z",
     "start_time": "2025-03-18T11:52:48.738300Z"
    }
   },
   "outputs": [
    {
     "name": "stdout",
     "output_type": "stream",
     "text": [
      "                          IV-GMM Estimation Summary                           \n",
      "==============================================================================\n",
      "Dep. Variable:                   wage   R-squared:                      0.1354\n",
      "Estimator:                     IV-GMM   Adj. R-squared:                 0.1293\n",
      "No. Observations:                 428   F-statistic:                 2.955e+14\n",
      "Date:                Wed, Mar 19 2025   P-value (F-stat)                0.0000\n",
      "Time:                        20:16:05   Distribution:                  chi2(3)\n",
      "Cov. Estimator:             clustered                                         \n",
      "                                                                              \n",
      "                             Parameter Estimates                              \n",
      "==============================================================================\n",
      "            Parameter  Std. Err.     T-stat    P-value    Lower CI    Upper CI\n",
      "------------------------------------------------------------------------------\n",
      "exog.0         0.0477     0.1217     0.3916     0.6953     -0.1908      0.2861\n",
      "exog.1         0.0451     0.0095     4.7546     0.0000      0.0265      0.0637\n",
      "exog.2        -0.0009     0.0002    -4.2679     0.0000     -0.0014     -0.0005\n",
      "educ           0.0611     0.0131     4.6662     0.0000      0.0354      0.0867\n",
      "==============================================================================\n",
      "\n",
      "Endogenous: educ\n",
      "Instruments: instruments.0, instruments.1\n",
      "GMM Covariance\n",
      "Debiased: False\n",
      "Clustered (One-way)\n",
      "Num Clusters: 2\n"
     ]
    }
   ],
   "source": [
    "from linearmodels.iv import IVGMM\n",
    "\n",
    "exog = np.c_[cons,exper,expersq]\n",
    "endog = mroz['educ']\n",
    "instruments = np.c_[mroz['motheduc'], mroz['fatheduc']]\n",
    "model = IVGMM(ln_wage, exog, endog, instruments)\n",
    "results1 = model.fit(cov_type='clustered', clusters=mroz['city'])\n",
    "print(results1.summary)"
   ]
  },
  {
   "cell_type": "code",
   "execution_count": null,
   "id": "6689f7572c8ac74b",
   "metadata": {},
   "outputs": [],
   "source": []
  }
 ],
 "metadata": {
  "kernelspec": {
   "display_name": "myenv_econ",
   "language": "python",
   "name": "python3"
  },
  "language_info": {
   "codemirror_mode": {
    "name": "ipython",
    "version": 3
   },
   "file_extension": ".py",
   "mimetype": "text/x-python",
   "name": "python",
   "nbconvert_exporter": "python",
   "pygments_lexer": "ipython3",
   "version": "3.11.8"
  }
 },
 "nbformat": 4,
 "nbformat_minor": 5
}
